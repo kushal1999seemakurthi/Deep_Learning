{
  "nbformat": 4,
  "nbformat_minor": 0,
  "metadata": {
    "colab": {
      "name": "6Classifer.ipynb",
      "provenance": []
    },
    "kernelspec": {
      "display_name": "Python 3",
      "name": "python3"
    },
    "language_info": {
      "name": "python"
    }
  },
  "cells": [
    {
      "cell_type": "markdown",
      "metadata": {
        "id": "JCH8zomjKdl-"
      },
      "source": [
        "# Image classification"
      ]
    },
    {
      "cell_type": "markdown",
      "metadata": {
        "id": "qbjgb72rLPCS"
      },
      "source": [
        "### Neccesary **libraries**"
      ]
    },
    {
      "cell_type": "code",
      "metadata": {
        "id": "TKnKsDAXh842"
      },
      "source": [
        "import numpy as np\n",
        "import pandas as pd\n",
        "from sklearn.model_selection import train_test_split\n",
        "from sklearn.preprocessing import OneHotEncoder\n",
        "\n",
        "import matplotlib.pyplot as plt\n",
        "import seaborn as sns\n",
        "import cv2\n",
        "import keras\n",
        "import tensorflow as tf\n",
        "from keras import regularizers"
      ],
      "execution_count": 1,
      "outputs": []
    },
    {
      "cell_type": "code",
      "metadata": {
        "id": "E8QSfO_uiB3W"
      },
      "source": [
        "from tensorflow.keras.layers import Input,Dense,Conv2D,Dropout,MaxPool2D,concatenate,Flatten,BatchNormalization, GlobalAvgPool2D\n",
        "from tensorflow.keras import Model\n",
        "from tensorflow.keras import Sequential\n",
        "from keras.datasets import cifar10\n",
        "from keras.optimizers import Adam"
      ],
      "execution_count": 2,
      "outputs": []
    },
    {
      "cell_type": "code",
      "metadata": {
        "id": "osPTVeZ_iEUT",
        "colab": {
          "base_uri": "https://localhost:8080/"
        },
        "outputId": "d101bb9b-1c68-4ce3-d0c0-54f871baf9f9"
      },
      "source": [
        " !pip install -q -U keras-tuner\n",
        "import kerastuner as kt"
      ],
      "execution_count": 3,
      "outputs": [
        {
          "output_type": "stream",
          "text": [
            "\u001b[?25l\r\u001b[K     |█████▏                          | 10kB 26.1MB/s eta 0:00:01\r\u001b[K     |██████████▍                     | 20kB 25.1MB/s eta 0:00:01\r\u001b[K     |███████████████▋                | 30kB 16.7MB/s eta 0:00:01\r\u001b[K     |████████████████████▉           | 40kB 14.8MB/s eta 0:00:01\r\u001b[K     |██████████████████████████      | 51kB 8.8MB/s eta 0:00:01\r\u001b[K     |███████████████████████████████▎| 61kB 8.7MB/s eta 0:00:01\r\u001b[K     |████████████████████████████████| 71kB 5.8MB/s \n",
            "\u001b[?25h  Building wheel for keras-tuner (setup.py) ... \u001b[?25l\u001b[?25hdone\n",
            "  Building wheel for terminaltables (setup.py) ... \u001b[?25l\u001b[?25hdone\n"
          ],
          "name": "stdout"
        }
      ]
    },
    {
      "cell_type": "markdown",
      "metadata": {
        "id": "b3CFbOZULAhZ"
      },
      "source": [
        "### Dataset **cifar10** from kerss"
      ]
    },
    {
      "cell_type": "code",
      "metadata": {
        "id": "XN_XodhYiIb9",
        "colab": {
          "base_uri": "https://localhost:8080/"
        },
        "outputId": "26b2de98-b3dd-4c1b-d7f5-8b5c7394c982"
      },
      "source": [
        "(x_train,y_train),(x_test,y_test)=tf.keras.datasets.cifar10.load_data()"
      ],
      "execution_count": 4,
      "outputs": [
        {
          "output_type": "stream",
          "text": [
            "Downloading data from https://www.cs.toronto.edu/~kriz/cifar-10-python.tar.gz\n",
            "170500096/170498071 [==============================] - 4s 0us/step\n"
          ],
          "name": "stdout"
        }
      ]
    },
    {
      "cell_type": "markdown",
      "metadata": {
        "id": "jakbw0rYLSAP"
      },
      "source": [
        "### Data Processesing and train and val set generation"
      ]
    },
    {
      "cell_type": "code",
      "metadata": {
        "id": "P0Oq0rANiS7V"
      },
      "source": [
        "x_train,x_val,y_train,y_val=train_test_split(x_train,y_train,test_size=.3,shuffle=True)"
      ],
      "execution_count": 5,
      "outputs": []
    },
    {
      "cell_type": "code",
      "metadata": {
        "colab": {
          "base_uri": "https://localhost:8080/"
        },
        "id": "H1gH7lAXiW2o",
        "outputId": "00f3e700-ce66-4f1b-971e-fdbb00c2da74"
      },
      "source": [
        "print((x_train.shape,y_train.shape))\n",
        "print((x_val.shape,y_val.shape))\n",
        "print((x_test.shape,y_test.shape))"
      ],
      "execution_count": 6,
      "outputs": [
        {
          "output_type": "stream",
          "text": [
            "((35000, 32, 32, 3), (35000, 1))\n",
            "((15000, 32, 32, 3), (15000, 1))\n",
            "((10000, 32, 32, 3), (10000, 1))\n"
          ],
          "name": "stdout"
        }
      ]
    },
    {
      "cell_type": "code",
      "metadata": {
        "id": "icnKi9piiZfr"
      },
      "source": [
        "y_train = y_train.tolist()\n",
        "y_train = np.array(y_train).reshape(35000,)"
      ],
      "execution_count": 7,
      "outputs": []
    },
    {
      "cell_type": "code",
      "metadata": {
        "id": "-A5qtTtpid74"
      },
      "source": [
        "img_1 = x_train[y_train==1]\n",
        "img_2 = x_train[y_train==2]\n",
        "img_0 = x_train[y_train==0]\n",
        "img_4 = x_train[y_train==4]\n",
        "img_5 = x_train[y_train==5]\n",
        "img_6 = x_train[y_train==6]"
      ],
      "execution_count": 8,
      "outputs": []
    },
    {
      "cell_type": "code",
      "metadata": {
        "colab": {
          "base_uri": "https://localhost:8080/"
        },
        "id": "fLslowqSif8H",
        "outputId": "d06c9e72-8469-4172-e9cb-45351a2785f9"
      },
      "source": [
        "n1,n2,n0,n4,n5,n6=img_1.shape[0],img_2.shape[0],img_0.shape[0],img_4.shape[0],img_5.shape[0],img_6.shape[0]\n",
        "y_train = np.array([1]*n1 + [2]*n2 + [0]*n0 + [4]*n4 + [5]*n5 + [6]*n6)\n",
        "y_train.shape"
      ],
      "execution_count": 9,
      "outputs": [
        {
          "output_type": "execute_result",
          "data": {
            "text/plain": [
              "(21081,)"
            ]
          },
          "metadata": {
            "tags": []
          },
          "execution_count": 9
        }
      ]
    },
    {
      "cell_type": "code",
      "metadata": {
        "colab": {
          "base_uri": "https://localhost:8080/"
        },
        "id": "iH7nK3ArikVl",
        "outputId": "71533670-c84c-42c9-e817-936ecd61835c"
      },
      "source": [
        "x_train= np.concatenate([img_1,img_2,img_0,img_4,img_5,img_6] ,axis=0)\n",
        "x_train.shape"
      ],
      "execution_count": 10,
      "outputs": [
        {
          "output_type": "execute_result",
          "data": {
            "text/plain": [
              "(21081, 32, 32, 3)"
            ]
          },
          "metadata": {
            "tags": []
          },
          "execution_count": 10
        }
      ]
    },
    {
      "cell_type": "code",
      "metadata": {
        "id": "_vtsJtz9io4B"
      },
      "source": [
        "x_train,x_val,y_train,y_val=train_test_split(x_train,y_train,test_size=.3,shuffle=True)"
      ],
      "execution_count": 11,
      "outputs": []
    },
    {
      "cell_type": "code",
      "metadata": {
        "id": "4VNHLBeDiuuO"
      },
      "source": [
        "x_train = x_train/255\n",
        "x_val =x_val/255"
      ],
      "execution_count": 12,
      "outputs": []
    },
    {
      "cell_type": "code",
      "metadata": {
        "colab": {
          "base_uri": "https://localhost:8080/",
          "height": 1000
        },
        "id": "vHprV-gyixtj",
        "outputId": "afe03a85-20f6-44f2-c3fc-3b1b15cd3b80"
      },
      "source": [
        "plt.imshow(img_1[1])\n",
        "plt.show()\n",
        "plt.imshow(img_2[2])\n",
        "plt.show()\n",
        "plt.imshow(img_0[0])\n",
        "plt.show()\n",
        "plt.imshow(img_4[1])\n",
        "plt.show()\n",
        "plt.imshow(img_5[1])\n",
        "plt.show()\n",
        "plt.imshow(img_6[1])\n",
        "plt.show()"
      ],
      "execution_count": 13,
      "outputs": [
        {
          "output_type": "display_data",
          "data": {
            "image/png": "[encoded data removed]",
            "text/plain": [
              "<Figure size 432x288 with 1 Axes>"
            ]
          },
          "metadata": {
            "tags": [],
            "needs_background": "light"
          }
        },
        {
          "output_type": "display_data",
          "data": {
            "image/png": "[encoded data removed]",
            "text/plain": [
              "<Figure size 432x288 with 1 Axes>"
            ]
          },
          "metadata": {
            "tags": [],
            "needs_background": "light"
          }
        },
        {
          "output_type": "display_data",
          "data": {
            "image/png": "[encoded data removed]",
            "text/plain": [
              "<Figure size 432x288 with 1 Axes>"
            ]
          },
          "metadata": {
            "tags": [],
            "needs_background": "light"
          }
        },
        {
          "output_type": "display_data",
          "data": {
            "image/png": "[encoded data removed]",
            "text/plain": [
              "<Figure size 432x288 with 1 Axes>"
            ]
          },
          "metadata": {
            "tags": [],
            "needs_background": "light"
          }
        },
        {
          "output_type": "display_data",
          "data": {
            "image/png": "[encoded data removed]",
            "text/plain": [
              "<Figure size 432x288 with 1 Axes>"
            ]
          },
          "metadata": {
            "tags": [],
            "needs_background": "light"
          }
        },
        {
          "output_type": "display_data",
          "data": {
            "image/png": "[encoded data removed]",
            "text/plain": [
              "<Figure size 432x288 with 1 Axes>"
            ]
          },
          "metadata": {
            "tags": [],
            "needs_background": "light"
          }
        }
      ]
    },
    {
      "cell_type": "code",
      "metadata": {
        "colab": {
          "base_uri": "https://localhost:8080/"
        },
        "id": "4ffTZ7lajEo2",
        "outputId": "fd2ba1a0-9146-4eb3-e472-d6324595c31a"
      },
      "source": [
        "print((x_train.shape,y_train.shape))\n",
        "print((x_val.shape,y_val.shape))"
      ],
      "execution_count": 14,
      "outputs": [
        {
          "output_type": "stream",
          "text": [
            "((14756, 32, 32, 3), (14756,))\n",
            "((6325, 32, 32, 3), (6325,))\n"
          ],
          "name": "stdout"
        }
      ]
    },
    {
      "cell_type": "markdown",
      "metadata": {
        "id": "MD0khUZpLx2w"
      },
      "source": [
        "#### Generating OneHotEncoding for numbers"
      ]
    },
    {
      "cell_type": "code",
      "metadata": {
        "id": "LRrl2j2Vi0eg"
      },
      "source": [
        "num_2_onehot = OneHotEncoder()\n",
        "y_train_onehot= num_2_onehot.fit_transform(y_train.reshape(14756,1))\n",
        "y_val_onehot = num_2_onehot.transform(y_val.reshape(6325,1))\n",
        "\n",
        "y_train_onehot=y_train_onehot.toarray()\n",
        "y_val_onehot=y_val_onehot.toarray()"
      ],
      "execution_count": 15,
      "outputs": []
    },
    {
      "cell_type": "code",
      "metadata": {
        "colab": {
          "base_uri": "https://localhost:8080/"
        },
        "id": "voDMMUkt9f_f",
        "outputId": "4075d610-c9d0-4622-bff3-b0d26b1de194"
      },
      "source": [
        "y_val_onehot.shape,y_train_onehot.shape"
      ],
      "execution_count": 16,
      "outputs": [
        {
          "output_type": "execute_result",
          "data": {
            "text/plain": [
              "((6325, 6), (14756, 6))"
            ]
          },
          "metadata": {
            "tags": []
          },
          "execution_count": 16
        }
      ]
    },
    {
      "cell_type": "markdown",
      "metadata": {
        "id": "P2F6re9CMBE_"
      },
      "source": [
        "### Building a **Keras model** with **Keras tuner**"
      ]
    },
    {
      "cell_type": "code",
      "metadata": {
        "id": "tP61ft1tocQg"
      },
      "source": [
        "import tensorflow as tf\n",
        "from tensorflow import keras\n",
        "import kerastuner as kt"
      ],
      "execution_count": 17,
      "outputs": []
    },
    {
      "cell_type": "code",
      "metadata": {
        "id": "8Wnk2pW2WzGd"
      },
      "source": [
        "def regu(type,value):\n",
        "    return regularizers.l1( value ) if type == 'l1' else regularizers.l2( value )"
      ],
      "execution_count": 18,
      "outputs": []
    },
    {
      "cell_type": "code",
      "metadata": {
        "id": "4IS9851iloSP"
      },
      "source": [
        "def model_builder(hp):\n",
        "    # regular = regu(hp.Choice('type', values=['l1','l2']),hp.Choice('value', values=[0.05,0.1,0.01,0.001]))\n",
        "    model = keras.Sequential()\n",
        "    model.add(Conv2D(filters=hp.Int('conv1', min_value=32, max_value=128, step=32), kernel_size=3 , padding='same', activation='relu', input_shape=(32,32,3)))\n",
        "    model.add(MaxPool2D((2,2)))\n",
        "    model.add(Conv2D(filters=hp.Int('conv2', min_value=64, max_value=128, step=32), kernel_size=3 , activation='relu'))\n",
        "    model.add(BatchNormalization())\n",
        "    model.add(Dropout(rate=hp.Choice('Dropout1', values=[0.2,0.3])))\n",
        "    model.add(Conv2D(filters=hp.Int('conv3', min_value=64, max_value=160, step=32), kernel_size=3 , activation='relu'))\n",
        "    model.add(BatchNormalization())\n",
        "    # model.add(MaxPool2D((2,2)))\n",
        "    model.add(Conv2D(filters=hp.Int('conv4', min_value=32, max_value=128, step=32), kernel_size=3 , activation='relu'))\n",
        "    model.add(BatchNormalization())\n",
        "    model.add(GlobalAvgPool2D())\n",
        "    model.add(Dropout(rate=hp.Choice('Dropout2', values=[0.2,0.1,0.0])))\n",
        "\n",
        "    # Tune the number of units in the first Dense layer\n",
        "    # Choose an optimal value between 32-512\n",
        "    # hp_units = hp.Int('units', min_value=32, max_value=64, step=8)\n",
        "    for j in range(3):\n",
        "        model.add(keras.layers.Dense(units= hp.Int('Dense_'+str(j), min_value=32, max_value=64, step=8), activation='relu',\n",
        "                                     kernel_regularizer = regu(hp.Choice('type'+str(j), values=['l1','l2']),hp.Choice('value'+str(j), values=[0.05,0.1,0.01,0.001]))))\n",
        "        model.add(BatchNormalization())\n",
        "        if j!=2:\n",
        "            model.add(Dropout(0.1))\n",
        "\n",
        "    model.add(keras.layers.Dense(6, activation='softmax'))\n",
        "\n",
        "    # Tune the learning rate for the optimizer\n",
        "    # Choose an optimal value from 0.01, 0.001, or 0.0001\n",
        "    hp_learning_rate = hp.Choice('learning_rate', values=[1e-2, 1e-3, 1e-4])\n",
        "\n",
        "    model.compile(optimizer=keras.optimizers.Adam(learning_rate=hp_learning_rate),\n",
        "                loss='categorical_crossentropy',\n",
        "                metrics=['accuracy'])\n",
        "    # print(model.summary())\n",
        "\n",
        "    return model"
      ],
      "execution_count": 19,
      "outputs": []
    },
    {
      "cell_type": "code",
      "metadata": {
        "colab": {
          "base_uri": "https://localhost:8080/"
        },
        "id": "2ZNQMbKzokic",
        "outputId": "1a63c8ed-5440-43f5-aa92-e7c333e3adec"
      },
      "source": [
        "tuner = kt.Hyperband(model_builder,\n",
        "                     objective='val_accuracy',\n",
        "                     max_epochs=10,\n",
        "                     factor=3,\n",
        "                     directory='my_dir',\n",
        "                     project_name='intro_to_kt1')\n",
        "\n",
        "stop_early = tf.keras.callbacks.EarlyStopping(monitor='val_loss', patience=5)\n",
        "\n",
        "tuner.search(x_train, y_train_onehot, epochs=15, validation_split=0.2, callbacks=[stop_early])\n",
        "\n",
        "# Get the optimal hyperparameters\n",
        "best_hps=tuner.get_best_hyperparameters(num_trials=1)[0]\n"
      ],
      "execution_count": 21,
      "outputs": [
        {
          "output_type": "stream",
          "text": [
            "Trial 30 Complete [00h 17m 23s]\n",
            "val_accuracy: 0.6144986152648926\n",
            "\n",
            "Best val_accuracy So Far: 0.6876693964004517\n",
            "Total elapsed time: 02h 24m 44s\n",
            "INFO:tensorflow:Oracle triggered exit\n"
          ],
          "name": "stdout"
        }
      ]
    },
    {
      "cell_type": "markdown",
      "metadata": {
        "id": "9JGBYUN-MWBn"
      },
      "source": [
        "#### Getting best **weights** and **model** from the **Keras Tunner**"
      ]
    },
    {
      "cell_type": "code",
      "metadata": {
        "colab": {
          "base_uri": "https://localhost:8080/"
        },
        "id": "--f0p2QaowwG",
        "outputId": "4f549513-1faf-4daf-8235-1c9a538176b9"
      },
      "source": [
        "model = tuner.hypermodel.build(best_hps)\n",
        "\n",
        "callback = tf.keras.callbacks.EarlyStopping(\n",
        "    monitor=\"val_loss\",\n",
        "    patience=5,\n",
        "    restore_best_weights=True)\n",
        "\n",
        "model.summary()\n",
        "history = model.fit(x_train, y_train_onehot, epochs=50, batch_size=40, validation_split=0.2,callbacks=[callback], shuffle=True)\n",
        "\n",
        "val_loss_per_epoch = history.history['val_loss']\n",
        "best_epoch = val_loss_per_epoch.index(min(val_loss_per_epoch)) + 1\n",
        "print('Best epoch: %d' % (best_epoch,))"
      ],
      "execution_count": 26,
      "outputs": [
        {
          "output_type": "stream",
          "text": [
            "Model: \"sequential\"\n",
            "_________________________________________________________________\n",
            "Layer (type)                 Output Shape              Param #   \n",
            "=================================================================\n",
            "conv2d (Conv2D)              (None, 32, 32, 128)       3584      \n",
            "_________________________________________________________________\n",
            "max_pooling2d (MaxPooling2D) (None, 16, 16, 128)       0         \n",
            "_________________________________________________________________\n",
            "conv2d_1 (Conv2D)            (None, 14, 14, 64)        73792     \n",
            "_________________________________________________________________\n",
            "batch_normalization (BatchNo (None, 14, 14, 64)        256       \n",
            "_________________________________________________________________\n",
            "dropout (Dropout)            (None, 14, 14, 64)        0         \n",
            "_________________________________________________________________\n",
            "conv2d_2 (Conv2D)            (None, 12, 12, 128)       73856     \n",
            "_________________________________________________________________\n",
            "batch_normalization_1 (Batch (None, 12, 12, 128)       512       \n",
            "_________________________________________________________________\n",
            "conv2d_3 (Conv2D)            (None, 10, 10, 64)        73792     \n",
            "_________________________________________________________________\n",
            "batch_normalization_2 (Batch (None, 10, 10, 64)        256       \n",
            "_________________________________________________________________\n",
            "global_average_pooling2d (Gl (None, 64)                0         \n",
            "_________________________________________________________________\n",
            "dropout_1 (Dropout)          (None, 64)                0         \n",
            "_________________________________________________________________\n",
            "dense (Dense)                (None, 40)                2600      \n",
            "_________________________________________________________________\n",
            "batch_normalization_3 (Batch (None, 40)                160       \n",
            "_________________________________________________________________\n",
            "dropout_2 (Dropout)          (None, 40)                0         \n",
            "_________________________________________________________________\n",
            "dense_1 (Dense)              (None, 56)                2296      \n",
            "_________________________________________________________________\n",
            "batch_normalization_4 (Batch (None, 56)                224       \n",
            "_________________________________________________________________\n",
            "dropout_3 (Dropout)          (None, 56)                0         \n",
            "_________________________________________________________________\n",
            "dense_2 (Dense)              (None, 56)                3192      \n",
            "_________________________________________________________________\n",
            "batch_normalization_5 (Batch (None, 56)                224       \n",
            "_________________________________________________________________\n",
            "dense_3 (Dense)              (None, 6)                 342       \n",
            "=================================================================\n",
            "Total params: 235,086\n",
            "Trainable params: 234,270\n",
            "Non-trainable params: 816\n",
            "_________________________________________________________________\n",
            "Epoch 1/50\n",
            "296/296 [==============================] - 72s 238ms/step - loss: 4.9874 - accuracy: 0.4179 - val_loss: 3.1132 - val_accuracy: 0.1873\n",
            "Epoch 2/50\n",
            "296/296 [==============================] - 70s 236ms/step - loss: 1.9773 - accuracy: 0.5147 - val_loss: 2.6784 - val_accuracy: 0.1907\n",
            "Epoch 3/50\n",
            "296/296 [==============================] - 70s 236ms/step - loss: 1.5294 - accuracy: 0.5530 - val_loss: 1.5175 - val_accuracy: 0.5386\n",
            "Epoch 4/50\n",
            "296/296 [==============================] - 70s 236ms/step - loss: 1.3464 - accuracy: 0.6001 - val_loss: 1.5635 - val_accuracy: 0.4868\n",
            "Epoch 5/50\n",
            "296/296 [==============================] - 70s 236ms/step - loss: 1.2255 - accuracy: 0.6265 - val_loss: 1.8237 - val_accuracy: 0.3682\n",
            "Epoch 6/50\n",
            "296/296 [==============================] - 70s 236ms/step - loss: 1.1355 - accuracy: 0.6543 - val_loss: 1.6364 - val_accuracy: 0.4922\n",
            "Epoch 7/50\n",
            "296/296 [==============================] - 70s 236ms/step - loss: 1.0367 - accuracy: 0.6822 - val_loss: 1.5356 - val_accuracy: 0.5183\n",
            "Epoch 8/50\n",
            "296/296 [==============================] - 70s 235ms/step - loss: 0.9666 - accuracy: 0.7030 - val_loss: 1.3885 - val_accuracy: 0.5291\n",
            "Epoch 9/50\n",
            "296/296 [==============================] - 69s 233ms/step - loss: 0.9118 - accuracy: 0.7165 - val_loss: 2.3475 - val_accuracy: 0.3994\n",
            "Epoch 10/50\n",
            "296/296 [==============================] - 69s 233ms/step - loss: 0.8723 - accuracy: 0.7253 - val_loss: 1.7081 - val_accuracy: 0.4411\n",
            "Epoch 11/50\n",
            "296/296 [==============================] - 69s 233ms/step - loss: 0.8291 - accuracy: 0.7374 - val_loss: 1.0896 - val_accuracy: 0.6389\n",
            "Epoch 12/50\n",
            "296/296 [==============================] - 69s 233ms/step - loss: 0.7808 - accuracy: 0.7554 - val_loss: 1.2018 - val_accuracy: 0.6131\n",
            "Epoch 13/50\n",
            "296/296 [==============================] - 69s 233ms/step - loss: 0.7565 - accuracy: 0.7641 - val_loss: 0.9952 - val_accuracy: 0.6738\n",
            "Epoch 14/50\n",
            "296/296 [==============================] - 69s 233ms/step - loss: 0.7282 - accuracy: 0.7722 - val_loss: 0.8059 - val_accuracy: 0.7459\n",
            "Epoch 15/50\n",
            "296/296 [==============================] - 69s 233ms/step - loss: 0.6979 - accuracy: 0.7774 - val_loss: 1.1211 - val_accuracy: 0.6297\n",
            "Epoch 16/50\n",
            "296/296 [==============================] - 69s 233ms/step - loss: 0.6599 - accuracy: 0.7955 - val_loss: 0.9135 - val_accuracy: 0.7060\n",
            "Epoch 17/50\n",
            "296/296 [==============================] - 69s 234ms/step - loss: 0.6518 - accuracy: 0.7985 - val_loss: 1.1033 - val_accuracy: 0.6657\n",
            "Epoch 18/50\n",
            "296/296 [==============================] - 70s 236ms/step - loss: 0.6264 - accuracy: 0.8076 - val_loss: 1.8512 - val_accuracy: 0.5447\n",
            "Epoch 19/50\n",
            "296/296 [==============================] - 70s 236ms/step - loss: 0.6101 - accuracy: 0.8079 - val_loss: 0.9929 - val_accuracy: 0.6829\n",
            "Best epoch: 14\n"
          ],
          "name": "stdout"
        }
      ]
    },
    {
      "cell_type": "markdown",
      "metadata": {
        "id": "OxArCLz1NpYs"
      },
      "source": [
        "#### saving the model"
      ]
    },
    {
      "cell_type": "code",
      "metadata": {
        "id": "0bdL9ptCqBVY"
      },
      "source": [
        "# !rm -rf /content/my_dir\n",
        "model.save('final_model_1_reg.h5')"
      ],
      "execution_count": 28,
      "outputs": []
    },
    {
      "cell_type": "markdown",
      "metadata": {
        "id": "6qj6fv8XMqOj"
      },
      "source": [
        "#### ***Evaluvating the model on test data***\n",
        "but we names test data as val \n",
        "and vallidation is done by spliting portion of training data using validation_split in fit function"
      ]
    },
    {
      "cell_type": "code",
      "metadata": {
        "id": "ufkVno-Mt3-B",
        "colab": {
          "base_uri": "https://localhost:8080/"
        },
        "outputId": "b08eb116-0afe-4ab3-e2a3-6264e2794aa5"
      },
      "source": [
        "model.evaluate(x_val,y_val_onehot)"
      ],
      "execution_count": 27,
      "outputs": [
        {
          "output_type": "stream",
          "text": [
            "198/198 [==============================] - 7s 37ms/step - loss: 0.7855 - accuracy: 0.7529\n"
          ],
          "name": "stdout"
        },
        {
          "output_type": "execute_result",
          "data": {
            "text/plain": [
              "[0.785476803779602, 0.7528854012489319]"
            ]
          },
          "metadata": {
            "tags": []
          },
          "execution_count": 27
        }
      ]
    }
  ]
}