{
  "nbformat": 4,
  "nbformat_minor": 0,
  "metadata": {
    "colab": {
      "name": "Untitled0.ipynb",
      "provenance": []
    },
    "kernelspec": {
      "name": "python3",
      "display_name": "Python 3"
    },
    "language_info": {
      "name": "python"
    },
    "accelerator": "GPU"
  },
  "cells": [
    {
      "cell_type": "markdown",
      "metadata": {
        "id": "cpjmURINJsa4"
      },
      "source": [
        "# Sentimental analysis on Audio Data"
      ]
    },
    {
      "cell_type": "markdown",
      "metadata": {
        "id": "_E2kxzNyJiw6"
      },
      "source": [
        "## Libraries to import "
      ]
    },
    {
      "cell_type": "code",
      "metadata": {
        "colab": {
          "base_uri": "https://localhost:8080/"
        },
        "id": "f68j4eOjqCVg",
        "outputId": "afbc04f5-e6af-4d7b-9b8c-356fd08055da"
      },
      "source": [
        "import numpy as np\n",
        "import tensorflow as tf\n",
        "import librosa\n",
        "\n",
        "from tensorflow.keras.layers import ReLU,Input, LSTM, Conv2D, Conv1D, Bidirectional, Dropout, Dense, MaxPool2D, GlobalAvgPool3D, AvgPool2D, GlobalAvgPool2D, GlobalAvgPool1D, BatchNormalization, Concatenate, Reshape, Flatten\n",
        "from tensorflow.keras import Sequential, Model\n",
        "import os, math\n",
        "import json\n",
        "\n",
        "from sklearn.model_selection import train_test_split\n",
        "from sklearn.preprocessing import OneHotEncoder\n",
        "import random\n",
        "from skimage import io, color\n",
        "\n",
        "tf.executing_eagerly()"
      ],
      "execution_count": 24,
      "outputs": [
        {
          "output_type": "execute_result",
          "data": {
            "text/plain": [
              "True"
            ]
          },
          "metadata": {
            "tags": []
          },
          "execution_count": 24
        }
      ]
    },
    {
      "cell_type": "markdown",
      "metadata": {
        "id": "avHTj9OGJ_t1"
      },
      "source": [
        "Mount Drive to colab"
      ]
    },
    {
      "cell_type": "code",
      "metadata": {
        "colab": {
          "base_uri": "https://localhost:8080/"
        },
        "id": "ge_61-rtt2x7",
        "outputId": "7c9f0894-f050-44b4-9cc8-ac4c72ee442e"
      },
      "source": [
        "from google.colab import drive\n",
        "drive.mount('/content/drive')"
      ],
      "execution_count": 2,
      "outputs": [
        {
          "output_type": "stream",
          "text": [
            "Mounted at /content/drive\n"
          ],
          "name": "stdout"
        }
      ]
    },
    {
      "cell_type": "markdown",
      "metadata": {
        "id": "L_dcs5f9JcuP"
      },
      "source": [
        ""
      ]
    },
    {
      "cell_type": "markdown",
      "metadata": {
        "id": "CVVoRXMkJcm6"
      },
      "source": [
        ""
      ]
    },
    {
      "cell_type": "markdown",
      "metadata": {
        "id": "FE2ZfIF1JcaW"
      },
      "source": [
        ""
      ]
    },
    {
      "cell_type": "markdown",
      "metadata": {
        "id": "q1WBR0ukH19R"
      },
      "source": [
        "# Here are steps for training"
      ]
    },
    {
      "cell_type": "markdown",
      "metadata": {
        "id": "x0aulxODHiu-"
      },
      "source": [
        "## Data preperation"
      ]
    },
    {
      "cell_type": "markdown",
      "metadata": {
        "id": "AxroRTfbH8Jo"
      },
      "source": [
        "Creating a function to extract mfcc data from audio file"
      ]
    },
    {
      "cell_type": "code",
      "metadata": {
        "id": "YC8oVx3KHh3k"
      },
      "source": [
        "FolderPath = '/content/drive/MyDrive/intern_jul20/Audio_Speech_Actors_01-24'\n",
        "json_path = '/content/drive/MyDrive/intern_jul20/data.json'\n",
        "\n",
        "def Extract_files(FolderPath, n_mfcc = 40, n_fft = 2048, hop_length = 512):\n",
        "    data = {\n",
        "        'mapping' : ['neutral', 'calm', 'happy', 'sad', 'angry', 'fearful', 'disgust', 'surprise'],\n",
        "        'mfcc' : [],\n",
        "        'labels' : []\n",
        "    }\n",
        "\n",
        "    Data = {\n",
        "        'mapping' : ['neutral', 'calm', 'happy', 'sad', 'angry', 'fearful', 'disgust', 'surprise'],\n",
        "        'mfcc' : [],\n",
        "        'labels' : []\n",
        "    }\n",
        "\n",
        "    s = 0\n",
        "    for dirpath, dirnames, filenames in os.walk(FolderPath):\n",
        "        if dirpath is not FolderPath:\n",
        "            dirname  = dirpath.split('/')[-1]\n",
        "            print('--------*****', dirname,'*****-------')\n",
        "\n",
        "            for File in filenames:\n",
        "                file_path = os.path.join(dirpath, File)\n",
        "                label  = File.split('-')[2]\n",
        "\n",
        "                SAMPLE_RATE = 22050\n",
        "                signal, sr = librosa.load(file_path, sr = SAMPLE_RATE)\n",
        "\n",
        "                DURATION = librosa.get_duration(y=signal, sr=sr)\n",
        "                SAMPLES_PER_TRACK  = SAMPLE_RATE * DURATION\n",
        "                \n",
        "                num_segments = int(DURATION) # since the file is long\n",
        "\n",
        "                #  here is the calcu of the no of samples per segment\n",
        "                #  and\n",
        "                # \n",
        "\n",
        "                start_sample = int(SAMPLES_PER_TRACK/num_segments)\n",
        "                end_sample = int(SAMPLES_PER_TRACK - start_sample)\n",
        "\n",
        "                mfcc  = librosa.feature.mfcc(signal[start_sample:end_sample],\n",
        "                                                    sr = sr,\n",
        "                                                    n_mfcc = n_mfcc,\n",
        "                                                    n_fft = n_fft,\n",
        "                                                    hop_length = hop_length)\n",
        "                \n",
        "                mfcc = mfcc.T\n",
        "                mfcc = np.resize(mfcc, (224,224,3))\n",
        "                data['mfcc'].append(mfcc)\n",
        "                # Data['mfcc'].append(mfcc.tolist())\n",
        "                data['labels'].append(int(label)-1)\n",
        "                # Data['labels'].append(int(label)-1)\n",
        "                s+=1\n",
        "                print(\"no_sample:{} and the mfcc resized to:{}\".format(s, mfcc.shape))\n",
        "    return data\n",
        "\n",
        "FolderPath = '/content/drive/MyDrive/intern_jul20/Audio_Speech_Actors_01-24'\n",
        "json_path = '/content/drive/MyDrive/intern_jul20/data.json'\n",
        "\n",
        "Data = Extract_files(FolderPath)"
      ],
      "execution_count": null,
      "outputs": []
    },
    {
      "cell_type": "code",
      "metadata": {
        "id": "b_V2dfM9Hhuz"
      },
      "source": [
        ""
      ],
      "execution_count": null,
      "outputs": []
    },
    {
      "cell_type": "code",
      "metadata": {
        "colab": {
          "base_uri": "https://localhost:8080/"
        },
        "id": "DEhxhqN3t7fj",
        "outputId": "54d98b5e-1bfb-45af-cbcd-1272f56e9994"
      },
      "source": [
        "M = np.load('/content/drive/MyDrive/intern_jul20/data1.npy')\n",
        "with open(\"/content/drive/MyDrive/intern_jul20/data1_label.json\", \"r\") as read_file:\n",
        "    LABELS = json.load(read_file)\n",
        "\n",
        "\n",
        "LABELS1 = np.array(LABELS).reshape(-1,1)\n",
        "\n",
        "num_2_onehot1 = OneHotEncoder()\n",
        "y_onehot1= num_2_onehot1.fit_transform(LABELS1)\n",
        "\n",
        "Y_onehot1=y_onehot1.toarray()\n",
        "\n",
        "M.shape, Y_onehot1.shape"
      ],
      "execution_count": 3,
      "outputs": [
        {
          "output_type": "execute_result",
          "data": {
            "text/plain": [
              "((1445, 224, 224, 3), (1445, 8))"
            ]
          },
          "metadata": {
            "tags": []
          },
          "execution_count": 3
        }
      ]
    },
    {
      "cell_type": "code",
      "metadata": {
        "id": "Nj94brBIzk7z"
      },
      "source": [
        "x_train,x_val,y_train,y_val=train_test_split(M,Y_onehot1,test_size=.2,shuffle=True, random_state=42)"
      ],
      "execution_count": 4,
      "outputs": []
    },
    {
      "cell_type": "markdown",
      "metadata": {
        "id": "gP2lXVKcJXeb"
      },
      "source": [
        ""
      ]
    },
    {
      "cell_type": "markdown",
      "metadata": {
        "id": "ig6aIABiJXXV"
      },
      "source": [
        ""
      ]
    },
    {
      "cell_type": "markdown",
      "metadata": {
        "id": "uRN27Zy1JXLp"
      },
      "source": [
        ""
      ]
    },
    {
      "cell_type": "markdown",
      "metadata": {
        "id": "8k8AJ9ZWIOEP"
      },
      "source": [
        "## Developing diffrent kinds of models"
      ]
    },
    {
      "cell_type": "markdown",
      "metadata": {
        "id": "cZvuC7sAJWW1"
      },
      "source": [
        ""
      ]
    },
    {
      "cell_type": "markdown",
      "metadata": {
        "id": "8p-ZwZCpJWLH"
      },
      "source": [
        ""
      ]
    },
    {
      "cell_type": "markdown",
      "metadata": {
        "id": "oJYhbZMdIUnh"
      },
      "source": [
        "### CNN model developed using coustumized layers"
      ]
    },
    {
      "cell_type": "markdown",
      "metadata": {
        "id": "YB0u0ALfJVCO"
      },
      "source": [
        ""
      ]
    },
    {
      "cell_type": "code",
      "metadata": {
        "id": "WFeY_oyPzk2O",
        "colab": {
          "base_uri": "https://localhost:8080/",
          "height": 969
        },
        "outputId": "046d7ce2-2849-432e-ec86-c24c5c51e4f1"
      },
      "source": [
        "inp = Input(shape=(224,224,3))\n",
        "layer1 = Conv2D(32,3, padding='same', activation='relu')(inp)\n",
        "\n",
        "\n",
        "\n",
        "layer11 = Conv2D(32, 3, activation='relu')(layer1)\n",
        "layer111 = MaxPool2D((2,2))(layer11)\n",
        "\n",
        "layer12 = Conv2D(64, 2, activation='relu')(layer1)\n",
        "layer121 = Conv2D(64, 2, activation='relu')(layer12)\n",
        "layer1211 = MaxPool2D((2,2))(layer121)\n",
        "\n",
        "layer2 = Conv2D(32,3, padding='same', activation='relu')(inp)\n",
        "layer21 = Conv2D(32, 3, padding='same', activation='relu')(layer2)\n",
        "layer211 = MaxPool2D((2,2))(layer21)\n",
        "layer2111 = GlobalAvgPool2D()(layer211)\n",
        "\n",
        "layer3 = Concatenate()([layer111, layer1211])\n",
        "layer31 = Conv2D(128,3, activation='relu')(layer3)\n",
        "layer311 = GlobalAvgPool2D()(layer31)\n",
        "\n",
        "layer4 = Concatenate()([layer311, layer2111])\n",
        "layer41 = Dense(64, activation='relu')(layer4)\n",
        "layer411 = Dense(32, activation='relu')(layer41)\n",
        "layer4111 = Dense(8, activation='softmax')(layer411)\n",
        "\n",
        "model = Model(inp, layer4111)\n",
        "tf.keras.utils.plot_model(model, show_shapes=True)"
      ],
      "execution_count": 5,
      "outputs": [
        {
          "output_type": "execute_result",
          "data": {
            "image/png": "[encoded data removed]",
            "text/plain": [
              "<IPython.core.display.Image object>"
            ]
          },
          "metadata": {
            "tags": []
          },
          "execution_count": 5
        }
      ]
    },
    {
      "cell_type": "code",
      "metadata": {
        "id": "CE8atsrvoB8r"
      },
      "source": [
        "checkpoint_filepath = '/content/checkpoint'\n",
        "model_checkpoint_callback = tf.keras.callbacks.ModelCheckpoint(\n",
        "    filepath=checkpoint_filepath,\n",
        "    save_weights_only=True,\n",
        "    monitor='val_accuracy',\n",
        "    mode='max',\n",
        "    save_best_only=True)"
      ],
      "execution_count": 6,
      "outputs": []
    },
    {
      "cell_type": "code",
      "metadata": {
        "colab": {
          "base_uri": "https://localhost:8080/"
        },
        "id": "yC6UtWWhoB3W",
        "outputId": "1e5da6e7-8690-4ede-ae58-eaf85a2e1d92"
      },
      "source": [
        "model.compile(optimizer='adam', loss='categorical_crossentropy', metrics=['accuracy'])\n",
        "model.fit(x_train, y_train, epochs=75, batch_size=32, validation_data=(x_val, y_val), shuffle=True, callbacks=[model_checkpoint_callback])"
      ],
      "execution_count": 7,
      "outputs": [
        {
          "output_type": "stream",
          "text": [
            "Epoch 1/75\n",
            "37/37 [==============================] - 51s 391ms/step - loss: 4.5618 - accuracy: 0.1349 - val_loss: 2.1814 - val_accuracy: 0.1142\n",
            "Epoch 2/75\n",
            "37/37 [==============================] - 13s 341ms/step - loss: 2.1265 - accuracy: 0.1505 - val_loss: 2.1690 - val_accuracy: 0.1349\n",
            "Epoch 3/75\n",
            "37/37 [==============================] - 13s 348ms/step - loss: 2.0375 - accuracy: 0.2137 - val_loss: 2.1038 - val_accuracy: 0.1419\n",
            "Epoch 4/75\n",
            "37/37 [==============================] - 13s 356ms/step - loss: 2.0306 - accuracy: 0.2206 - val_loss: 1.9637 - val_accuracy: 0.1903\n",
            "Epoch 5/75\n",
            "37/37 [==============================] - 13s 365ms/step - loss: 1.9352 - accuracy: 0.2457 - val_loss: 1.9434 - val_accuracy: 0.2699\n",
            "Epoch 6/75\n",
            "37/37 [==============================] - 14s 372ms/step - loss: 1.9319 - accuracy: 0.2422 - val_loss: 1.9296 - val_accuracy: 0.2768\n",
            "Epoch 7/75\n",
            "37/37 [==============================] - 13s 364ms/step - loss: 1.8952 - accuracy: 0.2699 - val_loss: 2.0054 - val_accuracy: 0.2318\n",
            "Epoch 8/75\n",
            "37/37 [==============================] - 13s 359ms/step - loss: 1.8296 - accuracy: 0.2881 - val_loss: 1.8464 - val_accuracy: 0.3910\n",
            "Epoch 9/75\n",
            "37/37 [==============================] - 13s 356ms/step - loss: 1.8132 - accuracy: 0.3036 - val_loss: 1.9613 - val_accuracy: 0.1626\n",
            "Epoch 10/75\n",
            "37/37 [==============================] - 13s 357ms/step - loss: 1.8005 - accuracy: 0.3149 - val_loss: 1.8280 - val_accuracy: 0.2976\n",
            "Epoch 11/75\n",
            "37/37 [==============================] - 13s 361ms/step - loss: 1.7660 - accuracy: 0.3123 - val_loss: 1.9514 - val_accuracy: 0.2318\n",
            "Epoch 12/75\n",
            "37/37 [==============================] - 13s 363ms/step - loss: 1.7471 - accuracy: 0.3304 - val_loss: 1.8864 - val_accuracy: 0.2007\n",
            "Epoch 13/75\n",
            "37/37 [==============================] - 13s 362ms/step - loss: 1.7638 - accuracy: 0.3149 - val_loss: 1.7146 - val_accuracy: 0.3183\n",
            "Epoch 14/75\n",
            "37/37 [==============================] - 13s 361ms/step - loss: 1.7277 - accuracy: 0.3330 - val_loss: 1.7381 - val_accuracy: 0.3391\n",
            "Epoch 15/75\n",
            "37/37 [==============================] - 13s 359ms/step - loss: 1.7740 - accuracy: 0.3114 - val_loss: 1.7276 - val_accuracy: 0.2526\n",
            "Epoch 16/75\n",
            "37/37 [==============================] - 13s 359ms/step - loss: 1.6671 - accuracy: 0.3486 - val_loss: 1.6365 - val_accuracy: 0.3945\n",
            "Epoch 17/75\n",
            "37/37 [==============================] - 13s 360ms/step - loss: 1.6391 - accuracy: 0.3702 - val_loss: 1.6458 - val_accuracy: 0.3633\n",
            "Epoch 18/75\n",
            "37/37 [==============================] - 13s 362ms/step - loss: 1.6467 - accuracy: 0.3382 - val_loss: 1.6872 - val_accuracy: 0.3460\n",
            "Epoch 19/75\n",
            "37/37 [==============================] - 13s 361ms/step - loss: 1.6600 - accuracy: 0.3555 - val_loss: 1.6220 - val_accuracy: 0.3841\n",
            "Epoch 20/75\n",
            "37/37 [==============================] - 13s 361ms/step - loss: 1.6142 - accuracy: 0.3763 - val_loss: 1.7693 - val_accuracy: 0.2907\n",
            "Epoch 21/75\n",
            "37/37 [==============================] - 13s 361ms/step - loss: 1.5689 - accuracy: 0.4100 - val_loss: 1.8253 - val_accuracy: 0.2422\n",
            "Epoch 22/75\n",
            "37/37 [==============================] - 13s 361ms/step - loss: 1.6270 - accuracy: 0.3702 - val_loss: 1.7577 - val_accuracy: 0.3495\n",
            "Epoch 23/75\n",
            "37/37 [==============================] - 13s 361ms/step - loss: 1.5978 - accuracy: 0.3919 - val_loss: 1.6114 - val_accuracy: 0.3633\n",
            "Epoch 24/75\n",
            "37/37 [==============================] - 13s 361ms/step - loss: 1.5573 - accuracy: 0.3979 - val_loss: 1.5253 - val_accuracy: 0.4256\n",
            "Epoch 25/75\n",
            "37/37 [==============================] - 13s 362ms/step - loss: 1.5491 - accuracy: 0.3962 - val_loss: 1.5826 - val_accuracy: 0.3772\n",
            "Epoch 26/75\n",
            "37/37 [==============================] - 13s 361ms/step - loss: 1.4719 - accuracy: 0.4308 - val_loss: 1.6017 - val_accuracy: 0.4083\n",
            "Epoch 27/75\n",
            "37/37 [==============================] - 13s 360ms/step - loss: 1.5877 - accuracy: 0.3841 - val_loss: 1.6528 - val_accuracy: 0.3806\n",
            "Epoch 28/75\n",
            "37/37 [==============================] - 13s 360ms/step - loss: 1.4439 - accuracy: 0.4585 - val_loss: 1.6781 - val_accuracy: 0.3253\n",
            "Epoch 29/75\n",
            "37/37 [==============================] - 13s 361ms/step - loss: 1.4699 - accuracy: 0.4308 - val_loss: 1.5520 - val_accuracy: 0.3910\n",
            "Epoch 30/75\n",
            "37/37 [==============================] - 13s 361ms/step - loss: 1.4275 - accuracy: 0.4429 - val_loss: 1.5046 - val_accuracy: 0.3945\n",
            "Epoch 31/75\n",
            "37/37 [==============================] - 13s 360ms/step - loss: 1.5104 - accuracy: 0.4412 - val_loss: 1.4510 - val_accuracy: 0.4671\n",
            "Epoch 32/75\n",
            "37/37 [==============================] - 13s 360ms/step - loss: 1.4651 - accuracy: 0.4273 - val_loss: 1.4628 - val_accuracy: 0.4533\n",
            "Epoch 33/75\n",
            "37/37 [==============================] - 13s 360ms/step - loss: 1.4059 - accuracy: 0.4438 - val_loss: 1.4425 - val_accuracy: 0.4533\n",
            "Epoch 34/75\n",
            "37/37 [==============================] - 13s 360ms/step - loss: 1.3681 - accuracy: 0.4619 - val_loss: 1.3929 - val_accuracy: 0.4740\n",
            "Epoch 35/75\n",
            "37/37 [==============================] - 13s 360ms/step - loss: 1.3114 - accuracy: 0.5026 - val_loss: 1.6637 - val_accuracy: 0.3599\n",
            "Epoch 36/75\n",
            "37/37 [==============================] - 13s 359ms/step - loss: 1.3152 - accuracy: 0.4749 - val_loss: 1.4823 - val_accuracy: 0.4464\n",
            "Epoch 37/75\n",
            "37/37 [==============================] - 13s 359ms/step - loss: 1.3199 - accuracy: 0.4792 - val_loss: 1.5483 - val_accuracy: 0.4429\n",
            "Epoch 38/75\n",
            "37/37 [==============================] - 13s 360ms/step - loss: 1.2954 - accuracy: 0.4801 - val_loss: 1.3433 - val_accuracy: 0.4948\n",
            "Epoch 39/75\n",
            "37/37 [==============================] - 13s 360ms/step - loss: 1.2384 - accuracy: 0.5069 - val_loss: 1.5266 - val_accuracy: 0.4602\n",
            "Epoch 40/75\n",
            "37/37 [==============================] - 13s 359ms/step - loss: 1.2777 - accuracy: 0.5138 - val_loss: 1.4836 - val_accuracy: 0.4602\n",
            "Epoch 41/75\n",
            "37/37 [==============================] - 13s 359ms/step - loss: 1.2057 - accuracy: 0.5398 - val_loss: 1.3951 - val_accuracy: 0.4671\n",
            "Epoch 42/75\n",
            "37/37 [==============================] - 13s 359ms/step - loss: 1.1805 - accuracy: 0.5415 - val_loss: 1.7361 - val_accuracy: 0.3806\n",
            "Epoch 43/75\n",
            "37/37 [==============================] - 13s 359ms/step - loss: 1.2610 - accuracy: 0.4888 - val_loss: 1.2620 - val_accuracy: 0.5571\n",
            "Epoch 44/75\n",
            "37/37 [==============================] - 13s 359ms/step - loss: 1.1589 - accuracy: 0.5372 - val_loss: 1.4048 - val_accuracy: 0.4913\n",
            "Epoch 45/75\n",
            "37/37 [==============================] - 13s 359ms/step - loss: 1.1865 - accuracy: 0.5458 - val_loss: 1.3206 - val_accuracy: 0.5536\n",
            "Epoch 46/75\n",
            "37/37 [==============================] - 13s 359ms/step - loss: 1.1406 - accuracy: 0.5554 - val_loss: 1.3149 - val_accuracy: 0.5156\n",
            "Epoch 47/75\n",
            "37/37 [==============================] - 13s 359ms/step - loss: 1.1146 - accuracy: 0.5718 - val_loss: 1.4264 - val_accuracy: 0.4844\n",
            "Epoch 48/75\n",
            "37/37 [==============================] - 13s 359ms/step - loss: 1.0934 - accuracy: 0.5614 - val_loss: 1.2458 - val_accuracy: 0.4810\n",
            "Epoch 49/75\n",
            "37/37 [==============================] - 13s 359ms/step - loss: 1.0373 - accuracy: 0.5969 - val_loss: 1.8443 - val_accuracy: 0.4498\n",
            "Epoch 50/75\n",
            "37/37 [==============================] - 13s 360ms/step - loss: 1.0352 - accuracy: 0.5943 - val_loss: 1.3283 - val_accuracy: 0.5433\n",
            "Epoch 51/75\n",
            "37/37 [==============================] - 13s 360ms/step - loss: 1.0294 - accuracy: 0.5969 - val_loss: 1.4339 - val_accuracy: 0.4533\n",
            "Epoch 52/75\n",
            "37/37 [==============================] - 13s 359ms/step - loss: 1.1502 - accuracy: 0.5562 - val_loss: 1.3345 - val_accuracy: 0.4879\n",
            "Epoch 53/75\n",
            "37/37 [==============================] - 13s 359ms/step - loss: 1.0234 - accuracy: 0.6151 - val_loss: 1.1952 - val_accuracy: 0.5052\n",
            "Epoch 54/75\n",
            "37/37 [==============================] - 13s 359ms/step - loss: 0.9539 - accuracy: 0.6151 - val_loss: 1.1428 - val_accuracy: 0.5675\n",
            "Epoch 55/75\n",
            "37/37 [==============================] - 13s 359ms/step - loss: 0.8942 - accuracy: 0.6427 - val_loss: 1.4804 - val_accuracy: 0.4983\n",
            "Epoch 56/75\n",
            "37/37 [==============================] - 13s 358ms/step - loss: 0.9755 - accuracy: 0.6090 - val_loss: 1.2270 - val_accuracy: 0.5502\n",
            "Epoch 57/75\n",
            "37/37 [==============================] - 13s 359ms/step - loss: 0.9302 - accuracy: 0.6462 - val_loss: 1.1782 - val_accuracy: 0.5640\n",
            "Epoch 58/75\n",
            "37/37 [==============================] - 13s 358ms/step - loss: 0.9296 - accuracy: 0.6349 - val_loss: 1.3418 - val_accuracy: 0.5329\n",
            "Epoch 59/75\n",
            "37/37 [==============================] - 13s 358ms/step - loss: 0.8341 - accuracy: 0.6782 - val_loss: 1.1834 - val_accuracy: 0.5156\n",
            "Epoch 60/75\n",
            "37/37 [==============================] - 13s 358ms/step - loss: 0.8475 - accuracy: 0.6730 - val_loss: 1.5710 - val_accuracy: 0.4048\n",
            "Epoch 61/75\n",
            "37/37 [==============================] - 13s 357ms/step - loss: 0.9456 - accuracy: 0.6540 - val_loss: 1.0516 - val_accuracy: 0.6263\n",
            "Epoch 62/75\n",
            "37/37 [==============================] - 13s 358ms/step - loss: 0.8924 - accuracy: 0.6514 - val_loss: 1.1488 - val_accuracy: 0.5744\n",
            "Epoch 63/75\n",
            "37/37 [==============================] - 13s 358ms/step - loss: 0.7399 - accuracy: 0.7067 - val_loss: 1.2768 - val_accuracy: 0.5571\n",
            "Epoch 64/75\n",
            "37/37 [==============================] - 13s 358ms/step - loss: 0.7930 - accuracy: 0.6955 - val_loss: 1.3859 - val_accuracy: 0.5536\n",
            "Epoch 65/75\n",
            "37/37 [==============================] - 13s 357ms/step - loss: 0.8072 - accuracy: 0.6903 - val_loss: 1.0812 - val_accuracy: 0.5917\n",
            "Epoch 66/75\n",
            "37/37 [==============================] - 13s 358ms/step - loss: 0.6541 - accuracy: 0.7673 - val_loss: 1.7987 - val_accuracy: 0.4048\n",
            "Epoch 67/75\n",
            "37/37 [==============================] - 13s 359ms/step - loss: 0.7731 - accuracy: 0.7111 - val_loss: 1.0674 - val_accuracy: 0.5986\n",
            "Epoch 68/75\n",
            "37/37 [==============================] - 13s 359ms/step - loss: 0.6387 - accuracy: 0.7491 - val_loss: 1.0633 - val_accuracy: 0.6159\n",
            "Epoch 69/75\n",
            "37/37 [==============================] - 13s 357ms/step - loss: 0.7268 - accuracy: 0.7292 - val_loss: 1.3447 - val_accuracy: 0.5433\n",
            "Epoch 70/75\n",
            "37/37 [==============================] - 13s 357ms/step - loss: 0.6368 - accuracy: 0.7561 - val_loss: 1.5084 - val_accuracy: 0.5017\n",
            "Epoch 71/75\n",
            "37/37 [==============================] - 13s 358ms/step - loss: 0.6336 - accuracy: 0.7569 - val_loss: 1.3450 - val_accuracy: 0.5606\n",
            "Epoch 72/75\n",
            "37/37 [==============================] - 13s 358ms/step - loss: 0.5707 - accuracy: 0.7889 - val_loss: 1.1975 - val_accuracy: 0.6159\n",
            "Epoch 73/75\n",
            "37/37 [==============================] - 13s 358ms/step - loss: 0.5599 - accuracy: 0.7889 - val_loss: 1.3643 - val_accuracy: 0.5467\n",
            "Epoch 74/75\n",
            "37/37 [==============================] - 13s 359ms/step - loss: 0.5686 - accuracy: 0.7777 - val_loss: 1.0511 - val_accuracy: 0.6228\n",
            "Epoch 75/75\n",
            "37/37 [==============================] - 13s 358ms/step - loss: 0.4712 - accuracy: 0.8209 - val_loss: 1.1141 - val_accuracy: 0.6194\n"
          ],
          "name": "stdout"
        },
        {
          "output_type": "execute_result",
          "data": {
            "text/plain": [
              "<tensorflow.python.keras.callbacks.History at 0x7f28f01d04d0>"
            ]
          },
          "metadata": {
            "tags": []
          },
          "execution_count": 7
        }
      ]
    },
    {
      "cell_type": "code",
      "metadata": {
        "colab": {
          "base_uri": "https://localhost:8080/"
        },
        "id": "uRHYhqGjoByh",
        "outputId": "65dcdb98-d237-440d-9916-e97fe3984c0b"
      },
      "source": [
        "model.load_weights(checkpoint_filepath)\n",
        "def get_accuracy(x_val = x_val, y_val = y_val):\n",
        "    v = np.argmax(model.predict(x_val), axis=1)\n",
        "    exp = np.argmax(y_val, axis=1)\n",
        "    accr = np.sum(v==exp)/len(v)\n",
        "    print(\"Here is the accuracy of the trained model on validation data : {:5.2f}%\".format(accr*100))\n",
        "\n",
        "get_accuracy()"
      ],
      "execution_count": 9,
      "outputs": [
        {
          "output_type": "stream",
          "text": [
            "Here is the accuracy of the trained model on validation data : 62.63%\n"
          ],
          "name": "stdout"
        }
      ]
    },
    {
      "cell_type": "code",
      "metadata": {
        "id": "FV2a5ide1u9i"
      },
      "source": [
        "model.save('/content/my_modeld_Aug_1_62.13.h5')"
      ],
      "execution_count": 10,
      "outputs": []
    },
    {
      "cell_type": "markdown",
      "metadata": {
        "id": "uKOkwl0_JMxG"
      },
      "source": [
        ""
      ]
    },
    {
      "cell_type": "markdown",
      "metadata": {
        "id": "71uny1NQJMp-"
      },
      "source": [
        ""
      ]
    },
    {
      "cell_type": "markdown",
      "metadata": {
        "id": "ndAhyLk_JMdT"
      },
      "source": [
        ""
      ]
    },
    {
      "cell_type": "markdown",
      "metadata": {
        "id": "lNGMGW_foBYt"
      },
      "source": [
        "### LSTM model using sequential model"
      ]
    },
    {
      "cell_type": "markdown",
      "metadata": {
        "id": "vz5-QGkOJAIw"
      },
      "source": [
        ""
      ]
    },
    {
      "cell_type": "code",
      "metadata": {
        "colab": {
          "base_uri": "https://localhost:8080/"
        },
        "id": "yr-AWUk2279V",
        "outputId": "cdf47076-8d4c-4715-bbad-5860defe948b"
      },
      "source": [
        "m = []\n",
        "for i in M:\n",
        "    m.append(np.resize(i, (54,44)))\n",
        "m = np.array(m)\n",
        "x_train,x_val,y_train,y_val=train_test_split(m,Y_onehot1,test_size=.2,shuffle=True, random_state=42)\n",
        "for i in [x_train,x_val,y_train,y_val]:\n",
        "    print(i.shape)"
      ],
      "execution_count": 14,
      "outputs": [
        {
          "output_type": "stream",
          "text": [
            "(1156, 54, 44)\n",
            "(289, 54, 44)\n",
            "(1156, 8)\n",
            "(289, 8)\n"
          ],
          "name": "stdout"
        }
      ]
    },
    {
      "cell_type": "code",
      "metadata": {
        "colab": {
          "base_uri": "https://localhost:8080/"
        },
        "id": "j2xi3P5in_jG",
        "outputId": "878eaa75-84ee-4780-a234-ca6c269b14e8"
      },
      "source": [
        "l1 = 148 #@param {type:'slider', min:100, max:200, step:4}\n",
        "l2 = 112 #@param {type:'slider', min:100, max:200, step:4}\n",
        "l3 = 100 #@param {type:'slider', min:40, max:200, step:4}\n",
        "l4 = 64 #@param {type:'slider', min:40, max:200, step:4}\n",
        "l5 = 100 #@param {type:'slider', min:40, max:200, step:4}\n",
        "\n",
        "drop1 = 0.2 #@param {type:'slider', min:0, max:0.9, step:0.05}\n",
        "drop2 = 0.1 #@param {type:'slider', min:0, max:0.9, step:0.05}\n",
        "\n",
        "\n",
        "model2 = Sequential([\n",
        "                    Input(shape=(54,44)),\n",
        "                    LSTM(l1, return_sequences=True),\n",
        "                    LSTM(l1, return_sequences=True),\n",
        "                    LSTM(l2, return_sequences=True),\n",
        "                    LSTM(l2, return_sequences=True),\n",
        "                    Reshape((54,l2,1)),\n",
        "\n",
        "                    Conv2D(32, 3, activation='relu'),\n",
        "                    Dropout(drop1),\n",
        "                    Conv2D(32, 3),\n",
        "                    BatchNormalization(),\n",
        "                    ReLU(),\n",
        "                    MaxPool2D((2,2)),\n",
        "                    \n",
        "                    Reshape((25, 54 * 32)),\n",
        "                    LSTM(l3, return_sequences=True),\n",
        "                    LSTM(l4, return_sequences=True),\n",
        "                    LSTM(l5),\n",
        "                    Dropout(drop2),\n",
        "                    Dense(32, 'relu'),\n",
        "                    Dense(8, 'softmax')\n",
        "])\n",
        "model2.summary()"
      ],
      "execution_count": 22,
      "outputs": [
        {
          "output_type": "stream",
          "text": [
            "WARNING:tensorflow:Please add `keras.layers.InputLayer` instead of `keras.Input` to Sequential model. `keras.Input` is intended to be used by Functional model.\n",
            "Model: \"sequential_2\"\n",
            "_________________________________________________________________\n",
            "Layer (type)                 Output Shape              Param #   \n",
            "=================================================================\n",
            "lstm_17 (LSTM)               (None, 54, 148)           114256    \n",
            "_________________________________________________________________\n",
            "lstm_18 (LSTM)               (None, 54, 148)           175824    \n",
            "_________________________________________________________________\n",
            "lstm_19 (LSTM)               (None, 54, 112)           116928    \n",
            "_________________________________________________________________\n",
            "lstm_20 (LSTM)               (None, 54, 112)           100800    \n",
            "_________________________________________________________________\n",
            "reshape_6 (Reshape)          (None, 54, 112, 1)        0         \n",
            "_________________________________________________________________\n",
            "conv2d_13 (Conv2D)           (None, 52, 110, 32)       320       \n",
            "_________________________________________________________________\n",
            "dropout_5 (Dropout)          (None, 52, 110, 32)       0         \n",
            "_________________________________________________________________\n",
            "conv2d_14 (Conv2D)           (None, 50, 108, 32)       9248      \n",
            "_________________________________________________________________\n",
            "batch_normalization_3 (Batch (None, 50, 108, 32)       128       \n",
            "_________________________________________________________________\n",
            "re_lu_3 (ReLU)               (None, 50, 108, 32)       0         \n",
            "_________________________________________________________________\n",
            "max_pooling2d_3 (MaxPooling2 (None, 25, 54, 32)        0         \n",
            "=================================================================\n",
            "Total params: 517,504\n",
            "Trainable params: 517,440\n",
            "Non-trainable params: 64\n",
            "_________________________________________________________________\n"
          ],
          "name": "stdout"
        }
      ]
    },
    {
      "cell_type": "code",
      "metadata": {
        "colab": {
          "base_uri": "https://localhost:8080/"
        },
        "id": "1iMZqGx_spUG",
        "outputId": "9555ddbf-baf0-4f3f-da74-bacdad84b385"
      },
      "source": [
        "model2.compile(optimizer='adam', loss='categorical_crossentropy', metrics=['accuracy'])\n",
        "model2.fit(x_train, y_train, epochs=75, batch_size=32, validation_data=(x_val, y_val), shuffle=True, callbacks=[model_checkpoint_callback])\n",
        "\n",
        "model.load_weights(checkpoint_filepath)\n",
        "def get_accuracy(x_val = x_val, y_val = y_val):\n",
        "    v = np.argmax(model2.predict(x_val), axis=1)\n",
        "    exp = np.argmax(y_val, axis=1)\n",
        "    accr = np.sum(v==exp)/len(v)\n",
        "    print(\"Here is the accuracy of the trained model on validation data : {:5.2f}%\".format(accr*100))\n",
        "\n",
        "get_accuracy()"
      ],
      "execution_count": 21,
      "outputs": [
        {
          "output_type": "stream",
          "text": [
            "Epoch 1/75\n",
            "37/37 [==============================] - 12s 96ms/step - loss: 2.0408 - accuracy: 0.1644 - val_loss: 2.0554 - val_accuracy: 0.1280\n",
            "Epoch 2/75\n",
            "37/37 [==============================] - 1s 40ms/step - loss: 1.9382 - accuracy: 0.2093 - val_loss: 1.9553 - val_accuracy: 0.2457\n",
            "Epoch 3/75\n",
            "37/37 [==============================] - 1s 41ms/step - loss: 1.8728 - accuracy: 0.2448 - val_loss: 1.8713 - val_accuracy: 0.2422\n",
            "Epoch 4/75\n",
            "37/37 [==============================] - 1s 40ms/step - loss: 1.7976 - accuracy: 0.2543 - val_loss: 1.9036 - val_accuracy: 0.2491\n",
            "Epoch 5/75\n",
            "37/37 [==============================] - 1s 40ms/step - loss: 1.8736 - accuracy: 0.2284 - val_loss: 1.8870 - val_accuracy: 0.1488\n",
            "Epoch 6/75\n",
            "37/37 [==============================] - 1s 40ms/step - loss: 1.7812 - accuracy: 0.2517 - val_loss: 1.9084 - val_accuracy: 0.2284\n",
            "Epoch 7/75\n",
            "37/37 [==============================] - 1s 40ms/step - loss: 1.7510 - accuracy: 0.2638 - val_loss: 1.8381 - val_accuracy: 0.2353\n",
            "Epoch 8/75\n",
            "37/37 [==============================] - 1s 40ms/step - loss: 1.7276 - accuracy: 0.2863 - val_loss: 2.0104 - val_accuracy: 0.1938\n",
            "Epoch 9/75\n",
            "37/37 [==============================] - 1s 40ms/step - loss: 1.7106 - accuracy: 0.2794 - val_loss: 1.7878 - val_accuracy: 0.2699\n",
            "Epoch 10/75\n",
            "37/37 [==============================] - 1s 39ms/step - loss: 1.6858 - accuracy: 0.3062 - val_loss: 1.9264 - val_accuracy: 0.2734\n",
            "Epoch 11/75\n",
            "37/37 [==============================] - 1s 39ms/step - loss: 1.6835 - accuracy: 0.3287 - val_loss: 1.7237 - val_accuracy: 0.3460\n",
            "Epoch 12/75\n",
            "37/37 [==============================] - 1s 39ms/step - loss: 1.6149 - accuracy: 0.3512 - val_loss: 1.8023 - val_accuracy: 0.3045\n",
            "Epoch 13/75\n",
            "37/37 [==============================] - 1s 39ms/step - loss: 1.5944 - accuracy: 0.3581 - val_loss: 1.7084 - val_accuracy: 0.3322\n",
            "Epoch 14/75\n",
            "37/37 [==============================] - 1s 38ms/step - loss: 1.5316 - accuracy: 0.3945 - val_loss: 1.7633 - val_accuracy: 0.3356\n",
            "Epoch 15/75\n",
            "37/37 [==============================] - 1s 38ms/step - loss: 1.5834 - accuracy: 0.3685 - val_loss: 1.6848 - val_accuracy: 0.3599\n",
            "Epoch 16/75\n",
            "37/37 [==============================] - 1s 39ms/step - loss: 1.5658 - accuracy: 0.3953 - val_loss: 1.6874 - val_accuracy: 0.3426\n",
            "Epoch 17/75\n",
            "37/37 [==============================] - 1s 39ms/step - loss: 1.5247 - accuracy: 0.4022 - val_loss: 1.8171 - val_accuracy: 0.3114\n",
            "Epoch 18/75\n",
            "37/37 [==============================] - 1s 39ms/step - loss: 1.5097 - accuracy: 0.4100 - val_loss: 1.7988 - val_accuracy: 0.3114\n",
            "Epoch 19/75\n",
            "37/37 [==============================] - 1s 39ms/step - loss: 1.4405 - accuracy: 0.4265 - val_loss: 1.9049 - val_accuracy: 0.3253\n",
            "Epoch 20/75\n",
            "37/37 [==============================] - 1s 39ms/step - loss: 1.4395 - accuracy: 0.4403 - val_loss: 2.0495 - val_accuracy: 0.2907\n",
            "Epoch 21/75\n",
            "37/37 [==============================] - 1s 39ms/step - loss: 1.5503 - accuracy: 0.3832 - val_loss: 1.7022 - val_accuracy: 0.3287\n",
            "Epoch 22/75\n",
            "37/37 [==============================] - 1s 39ms/step - loss: 1.3912 - accuracy: 0.4429 - val_loss: 1.7617 - val_accuracy: 0.3356\n",
            "Epoch 23/75\n",
            "37/37 [==============================] - 1s 39ms/step - loss: 1.6150 - accuracy: 0.3694 - val_loss: 1.7328 - val_accuracy: 0.3737\n",
            "Epoch 24/75\n",
            "37/37 [==============================] - 1s 38ms/step - loss: 1.4444 - accuracy: 0.4247 - val_loss: 1.6718 - val_accuracy: 0.3564\n",
            "Epoch 25/75\n",
            "37/37 [==============================] - 1s 38ms/step - loss: 1.3397 - accuracy: 0.4697 - val_loss: 1.7198 - val_accuracy: 0.3875\n",
            "Epoch 26/75\n",
            "37/37 [==============================] - 1s 39ms/step - loss: 1.3163 - accuracy: 0.4801 - val_loss: 1.6310 - val_accuracy: 0.3945\n",
            "Epoch 27/75\n",
            "37/37 [==============================] - 1s 38ms/step - loss: 1.2824 - accuracy: 0.5009 - val_loss: 1.8374 - val_accuracy: 0.3495\n",
            "Epoch 28/75\n",
            "37/37 [==============================] - 1s 38ms/step - loss: 1.2541 - accuracy: 0.5000 - val_loss: 1.7559 - val_accuracy: 0.3599\n",
            "Epoch 29/75\n",
            "37/37 [==============================] - 1s 39ms/step - loss: 1.3013 - accuracy: 0.4913 - val_loss: 1.7274 - val_accuracy: 0.3875\n",
            "Epoch 30/75\n",
            "37/37 [==============================] - 1s 39ms/step - loss: 1.3155 - accuracy: 0.4542 - val_loss: 1.8168 - val_accuracy: 0.3460\n",
            "Epoch 31/75\n",
            "37/37 [==============================] - 1s 38ms/step - loss: 1.2147 - accuracy: 0.5303 - val_loss: 1.7250 - val_accuracy: 0.3702\n",
            "Epoch 32/75\n",
            "37/37 [==============================] - 1s 38ms/step - loss: 1.2098 - accuracy: 0.5285 - val_loss: 1.8211 - val_accuracy: 0.3668\n",
            "Epoch 33/75\n",
            "37/37 [==============================] - 1s 38ms/step - loss: 1.2442 - accuracy: 0.5026 - val_loss: 1.7147 - val_accuracy: 0.3633\n",
            "Epoch 34/75\n",
            "37/37 [==============================] - 1s 38ms/step - loss: 1.2058 - accuracy: 0.5372 - val_loss: 1.6551 - val_accuracy: 0.3737\n",
            "Epoch 35/75\n",
            "37/37 [==============================] - 1s 38ms/step - loss: 1.1752 - accuracy: 0.5337 - val_loss: 1.8777 - val_accuracy: 0.3460\n",
            "Epoch 36/75\n",
            "37/37 [==============================] - 1s 38ms/step - loss: 1.1081 - accuracy: 0.5571 - val_loss: 1.7087 - val_accuracy: 0.4083\n",
            "Epoch 37/75\n",
            "37/37 [==============================] - 1s 38ms/step - loss: 1.1407 - accuracy: 0.5311 - val_loss: 2.1473 - val_accuracy: 0.3356\n",
            "Epoch 38/75\n",
            "37/37 [==============================] - 1s 39ms/step - loss: 1.1147 - accuracy: 0.5770 - val_loss: 1.9081 - val_accuracy: 0.3599\n",
            "Epoch 39/75\n",
            "37/37 [==============================] - 1s 38ms/step - loss: 1.0791 - accuracy: 0.5692 - val_loss: 2.0661 - val_accuracy: 0.3183\n",
            "Epoch 40/75\n",
            "37/37 [==============================] - 1s 40ms/step - loss: 1.1332 - accuracy: 0.5528 - val_loss: 1.7408 - val_accuracy: 0.4048\n",
            "Epoch 41/75\n",
            "37/37 [==============================] - 1s 40ms/step - loss: 1.1041 - accuracy: 0.5856 - val_loss: 1.9467 - val_accuracy: 0.3633\n",
            "Epoch 42/75\n",
            "37/37 [==============================] - 1s 40ms/step - loss: 1.0491 - accuracy: 0.6073 - val_loss: 1.8224 - val_accuracy: 0.4014\n",
            "Epoch 43/75\n",
            "37/37 [==============================] - 1s 40ms/step - loss: 1.0043 - accuracy: 0.6185 - val_loss: 2.0217 - val_accuracy: 0.3633\n",
            "Epoch 44/75\n",
            "37/37 [==============================] - 1s 40ms/step - loss: 1.0047 - accuracy: 0.6185 - val_loss: 1.8720 - val_accuracy: 0.4014\n",
            "Epoch 45/75\n",
            "37/37 [==============================] - 1s 40ms/step - loss: 0.9967 - accuracy: 0.6202 - val_loss: 1.9620 - val_accuracy: 0.3772\n",
            "Epoch 46/75\n",
            "37/37 [==============================] - 1s 40ms/step - loss: 0.9876 - accuracy: 0.6220 - val_loss: 2.1172 - val_accuracy: 0.3426\n",
            "Epoch 47/75\n",
            "37/37 [==============================] - 1s 40ms/step - loss: 0.9886 - accuracy: 0.6099 - val_loss: 1.9281 - val_accuracy: 0.3633\n",
            "Epoch 48/75\n",
            "37/37 [==============================] - 1s 40ms/step - loss: 0.9996 - accuracy: 0.6133 - val_loss: 2.0570 - val_accuracy: 0.3772\n",
            "Epoch 49/75\n",
            "37/37 [==============================] - 1s 40ms/step - loss: 1.0822 - accuracy: 0.5770 - val_loss: 1.8579 - val_accuracy: 0.3737\n",
            "Epoch 50/75\n",
            "37/37 [==============================] - 1s 40ms/step - loss: 0.9118 - accuracy: 0.6462 - val_loss: 1.8437 - val_accuracy: 0.4187\n",
            "Epoch 51/75\n",
            "37/37 [==============================] - 1s 40ms/step - loss: 0.8386 - accuracy: 0.6998 - val_loss: 1.8655 - val_accuracy: 0.3910\n",
            "Epoch 52/75\n",
            "37/37 [==============================] - 1s 40ms/step - loss: 0.7742 - accuracy: 0.7102 - val_loss: 2.0648 - val_accuracy: 0.3668\n",
            "Epoch 53/75\n",
            "37/37 [==============================] - 1s 40ms/step - loss: 0.9674 - accuracy: 0.6514 - val_loss: 1.9335 - val_accuracy: 0.3633\n",
            "Epoch 54/75\n",
            "37/37 [==============================] - 1s 40ms/step - loss: 0.8950 - accuracy: 0.6609 - val_loss: 1.9934 - val_accuracy: 0.3495\n",
            "Epoch 55/75\n",
            "37/37 [==============================] - 1s 40ms/step - loss: 0.8491 - accuracy: 0.6903 - val_loss: 1.9421 - val_accuracy: 0.4083\n",
            "Epoch 56/75\n",
            "37/37 [==============================] - 1s 40ms/step - loss: 0.8078 - accuracy: 0.7059 - val_loss: 1.8892 - val_accuracy: 0.4118\n",
            "Epoch 57/75\n",
            "37/37 [==============================] - 1s 40ms/step - loss: 0.8824 - accuracy: 0.6834 - val_loss: 1.6994 - val_accuracy: 0.4360\n",
            "Epoch 58/75\n",
            "37/37 [==============================] - 1s 39ms/step - loss: 0.8319 - accuracy: 0.6851 - val_loss: 2.4246 - val_accuracy: 0.3183\n",
            "Epoch 59/75\n",
            "37/37 [==============================] - 1s 38ms/step - loss: 0.7070 - accuracy: 0.7474 - val_loss: 2.1279 - val_accuracy: 0.4014\n",
            "Epoch 60/75\n",
            "37/37 [==============================] - 1s 39ms/step - loss: 0.7040 - accuracy: 0.7612 - val_loss: 2.0206 - val_accuracy: 0.3910\n",
            "Epoch 61/75\n",
            "37/37 [==============================] - 1s 38ms/step - loss: 0.7312 - accuracy: 0.7318 - val_loss: 2.5729 - val_accuracy: 0.3599\n",
            "Epoch 62/75\n",
            "37/37 [==============================] - 1s 39ms/step - loss: 0.7221 - accuracy: 0.7362 - val_loss: 2.1999 - val_accuracy: 0.4014\n",
            "Epoch 63/75\n",
            "37/37 [==============================] - 1s 40ms/step - loss: 0.8371 - accuracy: 0.6817 - val_loss: 2.0057 - val_accuracy: 0.4048\n",
            "Epoch 64/75\n",
            "37/37 [==============================] - 1s 40ms/step - loss: 0.7953 - accuracy: 0.7145 - val_loss: 1.9580 - val_accuracy: 0.3979\n",
            "Epoch 65/75\n",
            "37/37 [==============================] - 1s 40ms/step - loss: 0.7157 - accuracy: 0.7396 - val_loss: 2.0671 - val_accuracy: 0.3979\n",
            "Epoch 66/75\n",
            "37/37 [==============================] - 1s 40ms/step - loss: 0.5960 - accuracy: 0.7881 - val_loss: 2.1227 - val_accuracy: 0.4118\n",
            "Epoch 67/75\n",
            "37/37 [==============================] - 1s 41ms/step - loss: 0.5153 - accuracy: 0.8157 - val_loss: 2.0983 - val_accuracy: 0.4360\n",
            "Epoch 68/75\n",
            "37/37 [==============================] - 1s 40ms/step - loss: 0.5709 - accuracy: 0.8028 - val_loss: 2.2153 - val_accuracy: 0.4118\n",
            "Epoch 69/75\n",
            "37/37 [==============================] - 1s 40ms/step - loss: 0.5939 - accuracy: 0.8028 - val_loss: 2.2011 - val_accuracy: 0.4256\n",
            "Epoch 70/75\n",
            "37/37 [==============================] - 1s 40ms/step - loss: 0.5649 - accuracy: 0.8183 - val_loss: 2.3082 - val_accuracy: 0.4118\n",
            "Epoch 71/75\n",
            "37/37 [==============================] - 1s 41ms/step - loss: 0.5885 - accuracy: 0.8045 - val_loss: 2.4530 - val_accuracy: 0.3875\n",
            "Epoch 72/75\n",
            "37/37 [==============================] - 1s 40ms/step - loss: 0.6408 - accuracy: 0.7768 - val_loss: 2.2312 - val_accuracy: 0.4464\n",
            "Epoch 73/75\n",
            "37/37 [==============================] - 1s 40ms/step - loss: 0.5984 - accuracy: 0.7898 - val_loss: 2.5732 - val_accuracy: 0.3945\n",
            "Epoch 74/75\n",
            "37/37 [==============================] - 1s 40ms/step - loss: 0.7792 - accuracy: 0.7275 - val_loss: 2.2038 - val_accuracy: 0.3702\n",
            "Epoch 75/75\n",
            "37/37 [==============================] - 1s 40ms/step - loss: 0.6223 - accuracy: 0.7742 - val_loss: 2.4520 - val_accuracy: 0.3529\n"
          ],
          "name": "stdout"
        },
        {
          "output_type": "stream",
          "text": [
            "Exception ignored in: <function IteratorResourceDeleter.__del__ at 0x7f2928cf1560>\n",
            "Traceback (most recent call last):\n",
            "  File \"/usr/local/lib/python3.7/dist-packages/tensorflow/python/data/ops/iterator_ops.py\", line 546, in __del__\n",
            "    handle=self._handle, deleter=self._deleter)\n",
            "  File \"/usr/local/lib/python3.7/dist-packages/tensorflow/python/ops/gen_dataset_ops.py\", line 1264, in delete_iterator\n",
            "    _ctx, \"DeleteIterator\", name, handle, deleter)\n",
            "KeyboardInterrupt: \n"
          ],
          "name": "stderr"
        },
        {
          "output_type": "stream",
          "text": [
            "Here is the accuracy of the trained model on validation data : 35.29%\n"
          ],
          "name": "stdout"
        }
      ]
    },
    {
      "cell_type": "code",
      "metadata": {
        "id": "waf8myVQspOo"
      },
      "source": [
        "model2.save('/content/my_modeld_Aug_1_lstm_48.10.h5')"
      ],
      "execution_count": 19,
      "outputs": []
    },
    {
      "cell_type": "code",
      "metadata": {
        "id": "UEssdm_cspJ4"
      },
      "source": [
        ""
      ],
      "execution_count": null,
      "outputs": []
    },
    {
      "cell_type": "markdown",
      "metadata": {
        "id": "wqLnzOU_JPzu"
      },
      "source": [
        ""
      ]
    },
    {
      "cell_type": "markdown",
      "metadata": {
        "id": "dLgTFtjzJPo7"
      },
      "source": [
        ""
      ]
    },
    {
      "cell_type": "markdown",
      "metadata": {
        "id": "JbzjFR9HJPeC"
      },
      "source": [
        ""
      ]
    },
    {
      "cell_type": "markdown",
      "metadata": {
        "id": "_dH-6DZYsnZq"
      },
      "source": [
        "### CNN model using Sequential"
      ]
    },
    {
      "cell_type": "markdown",
      "metadata": {
        "id": "xWZyM8tXJQtW"
      },
      "source": [
        ""
      ]
    },
    {
      "cell_type": "code",
      "metadata": {
        "colab": {
          "base_uri": "https://localhost:8080/"
        },
        "id": "GxVKboIHoDjz",
        "outputId": "520e13ed-64ef-494e-af12-8839412f27eb"
      },
      "source": [
        "l1 = 32 #@param {type:'slider', min:16, max:200, step:4}\n",
        "l2 = 64 #@param {type:'slider', min:16, max:200, step:4}\n",
        "l3 = 64 #@param {type:'slider', min:40, max:200, step:4}\n",
        "l4 = 128 #@param {type:'slider', min:40, max:200, step:4}\n",
        "d5 = 64 #@param {type:'slider', min:40, max:200, step:4}\n",
        "\n",
        "drop1 = 0.2 #@param {type:'slider', min:0, max:0.9, step:0.05}\n",
        "\n",
        "model3 = Sequential([\n",
        "                    Input(shape=(54,44)),\n",
        "                    Reshape((54,44,1)),\n",
        "                    Conv2D(l1, 3, padding='same', activation='relu'),\n",
        "                    Conv2D(l2, 3, activation='relu'),\n",
        "                    MaxPool2D((2,2)),\n",
        "\n",
        "                    Conv2D(l3, 3, activation='relu'),\n",
        "                    Conv2D(l4, 3, activation='relu'),\n",
        "                    MaxPool2D((2,2)),\n",
        "\n",
        "                    GlobalAvgPool2D(),\n",
        "                    Dropout(drop1),\n",
        "                    Dense(d5, activation='relu'),\n",
        "                    Dense(8, activation='softmax')\n",
        "\n",
        "])\n",
        "\n",
        "model3.summary()\n",
        "\n",
        "model3.compile(optimizer='adam', loss='categorical_crossentropy', metrics=['accuracy'])\n",
        "model3.fit(x_train, y_train, epochs=75, batch_size=32, validation_data=(x_val, y_val), shuffle=True, callbacks=[model_checkpoint_callback])\n",
        "\n",
        "model3.load_weights(checkpoint_filepath)\n",
        "def get_accuracy(x_val = x_val, y_val = y_val):\n",
        "    v = np.argmax(model3.predict(x_val), axis=1)\n",
        "    exp = np.argmax(y_val, axis=1)\n",
        "    accr = np.sum(v==exp)/len(v)\n",
        "    print(\"Here is the accuracy of the trained model on validation data : {:5.2f}%\".format(accr*100))\n",
        "\n",
        "get_accuracy()"
      ],
      "execution_count": 28,
      "outputs": [
        {
          "output_type": "stream",
          "text": [
            "WARNING:tensorflow:Please add `keras.layers.InputLayer` instead of `keras.Input` to Sequential model. `keras.Input` is intended to be used by Functional model.\n",
            "Model: \"sequential_6\"\n",
            "_________________________________________________________________\n",
            "Layer (type)                 Output Shape              Param #   \n",
            "=================================================================\n",
            "reshape_8 (Reshape)          (None, 54, 44, 1)         0         \n",
            "_________________________________________________________________\n",
            "conv2d_27 (Conv2D)           (None, 54, 44, 32)        320       \n",
            "_________________________________________________________________\n",
            "conv2d_28 (Conv2D)           (None, 52, 42, 64)        18496     \n",
            "_________________________________________________________________\n",
            "max_pooling2d_10 (MaxPooling (None, 26, 21, 64)        0         \n",
            "_________________________________________________________________\n",
            "conv2d_29 (Conv2D)           (None, 24, 19, 64)        36928     \n",
            "_________________________________________________________________\n",
            "conv2d_30 (Conv2D)           (None, 22, 17, 128)       73856     \n",
            "_________________________________________________________________\n",
            "max_pooling2d_11 (MaxPooling (None, 11, 8, 128)        0         \n",
            "_________________________________________________________________\n",
            "global_average_pooling2d_5 ( (None, 128)               0         \n",
            "_________________________________________________________________\n",
            "dropout_9 (Dropout)          (None, 128)               0         \n",
            "_________________________________________________________________\n",
            "dense_13 (Dense)             (None, 64)                8256      \n",
            "_________________________________________________________________\n",
            "dense_14 (Dense)             (None, 8)                 520       \n",
            "=================================================================\n",
            "Total params: 138,376\n",
            "Trainable params: 138,376\n",
            "Non-trainable params: 0\n",
            "_________________________________________________________________\n",
            "Epoch 1/75\n",
            "37/37 [==============================] - 1s 16ms/step - loss: 2.7636 - accuracy: 0.1358 - val_loss: 2.0638 - val_accuracy: 0.1211\n",
            "Epoch 2/75\n",
            "37/37 [==============================] - 0s 10ms/step - loss: 2.0334 - accuracy: 0.1609 - val_loss: 2.0066 - val_accuracy: 0.1869\n",
            "Epoch 3/75\n",
            "37/37 [==============================] - 0s 10ms/step - loss: 1.9726 - accuracy: 0.1972 - val_loss: 1.9063 - val_accuracy: 0.2284\n",
            "Epoch 4/75\n",
            "37/37 [==============================] - 0s 10ms/step - loss: 1.8913 - accuracy: 0.2336 - val_loss: 2.1338 - val_accuracy: 0.2180\n",
            "Epoch 5/75\n",
            "37/37 [==============================] - 0s 10ms/step - loss: 1.8296 - accuracy: 0.2388 - val_loss: 1.8048 - val_accuracy: 0.2284\n",
            "Epoch 6/75\n",
            "37/37 [==============================] - 0s 10ms/step - loss: 1.8170 - accuracy: 0.2310 - val_loss: 1.7739 - val_accuracy: 0.2837\n",
            "Epoch 7/75\n",
            "37/37 [==============================] - 0s 9ms/step - loss: 1.8229 - accuracy: 0.2431 - val_loss: 1.7886 - val_accuracy: 0.2941\n",
            "Epoch 8/75\n",
            "37/37 [==============================] - 0s 10ms/step - loss: 1.7845 - accuracy: 0.2682 - val_loss: 1.7871 - val_accuracy: 0.3183\n",
            "Epoch 9/75\n",
            "37/37 [==============================] - 0s 10ms/step - loss: 1.7668 - accuracy: 0.2829 - val_loss: 1.7882 - val_accuracy: 0.3045\n",
            "Epoch 10/75\n",
            "37/37 [==============================] - 0s 10ms/step - loss: 1.7885 - accuracy: 0.2569 - val_loss: 1.8713 - val_accuracy: 0.2699\n",
            "Epoch 11/75\n",
            "37/37 [==============================] - 0s 10ms/step - loss: 1.7455 - accuracy: 0.2933 - val_loss: 1.7314 - val_accuracy: 0.3356\n",
            "Epoch 12/75\n",
            "37/37 [==============================] - 0s 9ms/step - loss: 1.6836 - accuracy: 0.3443 - val_loss: 1.6650 - val_accuracy: 0.3875\n",
            "Epoch 13/75\n",
            "37/37 [==============================] - 0s 10ms/step - loss: 1.6905 - accuracy: 0.3235 - val_loss: 1.6867 - val_accuracy: 0.3945\n",
            "Epoch 14/75\n",
            "37/37 [==============================] - 0s 10ms/step - loss: 1.6776 - accuracy: 0.3261 - val_loss: 1.6605 - val_accuracy: 0.3668\n",
            "Epoch 15/75\n",
            "37/37 [==============================] - 0s 9ms/step - loss: 1.6774 - accuracy: 0.3339 - val_loss: 1.6484 - val_accuracy: 0.3737\n",
            "Epoch 16/75\n",
            "37/37 [==============================] - 0s 9ms/step - loss: 1.6723 - accuracy: 0.3460 - val_loss: 1.7126 - val_accuracy: 0.3322\n",
            "Epoch 17/75\n",
            "37/37 [==============================] - 0s 10ms/step - loss: 1.6266 - accuracy: 0.3832 - val_loss: 1.6671 - val_accuracy: 0.3841\n",
            "Epoch 18/75\n",
            "37/37 [==============================] - 0s 9ms/step - loss: 1.6507 - accuracy: 0.3581 - val_loss: 1.8832 - val_accuracy: 0.2976\n",
            "Epoch 19/75\n",
            "37/37 [==============================] - 0s 10ms/step - loss: 1.5811 - accuracy: 0.3824 - val_loss: 1.5560 - val_accuracy: 0.4118\n",
            "Epoch 20/75\n",
            "37/37 [==============================] - 0s 10ms/step - loss: 1.5550 - accuracy: 0.4144 - val_loss: 1.5006 - val_accuracy: 0.4567\n",
            "Epoch 21/75\n",
            "37/37 [==============================] - 0s 9ms/step - loss: 1.5000 - accuracy: 0.4317 - val_loss: 1.4339 - val_accuracy: 0.4637\n",
            "Epoch 22/75\n",
            "37/37 [==============================] - 0s 10ms/step - loss: 1.4562 - accuracy: 0.4438 - val_loss: 1.4100 - val_accuracy: 0.5017\n",
            "Epoch 23/75\n",
            "37/37 [==============================] - 0s 10ms/step - loss: 1.4475 - accuracy: 0.4507 - val_loss: 1.5193 - val_accuracy: 0.3979\n",
            "Epoch 24/75\n",
            "37/37 [==============================] - 0s 10ms/step - loss: 1.4246 - accuracy: 0.4516 - val_loss: 1.4184 - val_accuracy: 0.4706\n",
            "Epoch 25/75\n",
            "37/37 [==============================] - 0s 9ms/step - loss: 1.4021 - accuracy: 0.4697 - val_loss: 1.7291 - val_accuracy: 0.3910\n",
            "Epoch 26/75\n",
            "37/37 [==============================] - 0s 10ms/step - loss: 1.4181 - accuracy: 0.4377 - val_loss: 1.4355 - val_accuracy: 0.4810\n",
            "Epoch 27/75\n",
            "37/37 [==============================] - 0s 9ms/step - loss: 1.3749 - accuracy: 0.4844 - val_loss: 1.3776 - val_accuracy: 0.4637\n",
            "Epoch 28/75\n",
            "37/37 [==============================] - 0s 10ms/step - loss: 1.3734 - accuracy: 0.4862 - val_loss: 1.3286 - val_accuracy: 0.4706\n",
            "Epoch 29/75\n",
            "37/37 [==============================] - 0s 9ms/step - loss: 1.2719 - accuracy: 0.5035 - val_loss: 1.3322 - val_accuracy: 0.4810\n",
            "Epoch 30/75\n",
            "37/37 [==============================] - 0s 9ms/step - loss: 1.2422 - accuracy: 0.5182 - val_loss: 1.3178 - val_accuracy: 0.5156\n",
            "Epoch 31/75\n",
            "37/37 [==============================] - 0s 9ms/step - loss: 1.3327 - accuracy: 0.4862 - val_loss: 1.3337 - val_accuracy: 0.4775\n",
            "Epoch 32/75\n",
            "37/37 [==============================] - 0s 9ms/step - loss: 1.2274 - accuracy: 0.5381 - val_loss: 1.4729 - val_accuracy: 0.4221\n",
            "Epoch 33/75\n",
            "37/37 [==============================] - 0s 9ms/step - loss: 1.2448 - accuracy: 0.5199 - val_loss: 1.2525 - val_accuracy: 0.5190\n",
            "Epoch 34/75\n",
            "37/37 [==============================] - 0s 9ms/step - loss: 1.2192 - accuracy: 0.5294 - val_loss: 1.3568 - val_accuracy: 0.4810\n",
            "Epoch 35/75\n",
            "37/37 [==============================] - 0s 9ms/step - loss: 1.2034 - accuracy: 0.5277 - val_loss: 1.4066 - val_accuracy: 0.4221\n",
            "Epoch 36/75\n",
            "37/37 [==============================] - 0s 9ms/step - loss: 1.1340 - accuracy: 0.5580 - val_loss: 1.2569 - val_accuracy: 0.5294\n",
            "Epoch 37/75\n",
            "37/37 [==============================] - 0s 10ms/step - loss: 1.0676 - accuracy: 0.5848 - val_loss: 1.2701 - val_accuracy: 0.5156\n",
            "Epoch 38/75\n",
            "37/37 [==============================] - 0s 9ms/step - loss: 1.1831 - accuracy: 0.5458 - val_loss: 1.3765 - val_accuracy: 0.4913\n",
            "Epoch 39/75\n",
            "37/37 [==============================] - 0s 10ms/step - loss: 1.0918 - accuracy: 0.5830 - val_loss: 1.2124 - val_accuracy: 0.5190\n",
            "Epoch 40/75\n",
            "37/37 [==============================] - 0s 10ms/step - loss: 1.0053 - accuracy: 0.6176 - val_loss: 1.2386 - val_accuracy: 0.4775\n",
            "Epoch 41/75\n",
            "37/37 [==============================] - 0s 10ms/step - loss: 1.0125 - accuracy: 0.5882 - val_loss: 1.1998 - val_accuracy: 0.5606\n",
            "Epoch 42/75\n",
            "37/37 [==============================] - 0s 10ms/step - loss: 0.9761 - accuracy: 0.6176 - val_loss: 1.3438 - val_accuracy: 0.5017\n",
            "Epoch 43/75\n",
            "37/37 [==============================] - 0s 9ms/step - loss: 0.9597 - accuracy: 0.6367 - val_loss: 1.2422 - val_accuracy: 0.5398\n",
            "Epoch 44/75\n",
            "37/37 [==============================] - 0s 9ms/step - loss: 0.9489 - accuracy: 0.6349 - val_loss: 1.2663 - val_accuracy: 0.5121\n",
            "Epoch 45/75\n",
            "37/37 [==============================] - 0s 9ms/step - loss: 0.8995 - accuracy: 0.6488 - val_loss: 1.3736 - val_accuracy: 0.4498\n",
            "Epoch 46/75\n",
            "37/37 [==============================] - 0s 9ms/step - loss: 0.9385 - accuracy: 0.6367 - val_loss: 1.1671 - val_accuracy: 0.5225\n",
            "Epoch 47/75\n",
            "37/37 [==============================] - 0s 10ms/step - loss: 0.9101 - accuracy: 0.6574 - val_loss: 1.1970 - val_accuracy: 0.5502\n",
            "Epoch 48/75\n",
            "37/37 [==============================] - 0s 10ms/step - loss: 0.7985 - accuracy: 0.6817 - val_loss: 1.2339 - val_accuracy: 0.5433\n",
            "Epoch 49/75\n",
            "37/37 [==============================] - 0s 10ms/step - loss: 0.8756 - accuracy: 0.6497 - val_loss: 1.1495 - val_accuracy: 0.5502\n",
            "Epoch 50/75\n",
            "37/37 [==============================] - 0s 10ms/step - loss: 0.7887 - accuracy: 0.7042 - val_loss: 1.2035 - val_accuracy: 0.5467\n",
            "Epoch 51/75\n",
            "37/37 [==============================] - 0s 10ms/step - loss: 0.7027 - accuracy: 0.7223 - val_loss: 1.4443 - val_accuracy: 0.4602\n",
            "Epoch 52/75\n",
            "37/37 [==============================] - 0s 10ms/step - loss: 0.7324 - accuracy: 0.7275 - val_loss: 1.1381 - val_accuracy: 0.5467\n",
            "Epoch 53/75\n",
            "37/37 [==============================] - 0s 9ms/step - loss: 0.6770 - accuracy: 0.7474 - val_loss: 1.2622 - val_accuracy: 0.5640\n",
            "Epoch 54/75\n",
            "37/37 [==============================] - 0s 9ms/step - loss: 0.7363 - accuracy: 0.7258 - val_loss: 1.3294 - val_accuracy: 0.5398\n",
            "Epoch 55/75\n",
            "37/37 [==============================] - 0s 9ms/step - loss: 0.7092 - accuracy: 0.7413 - val_loss: 1.3168 - val_accuracy: 0.5398\n",
            "Epoch 56/75\n",
            "37/37 [==============================] - 0s 9ms/step - loss: 0.5993 - accuracy: 0.7785 - val_loss: 1.2842 - val_accuracy: 0.5398\n",
            "Epoch 57/75\n",
            "37/37 [==============================] - 0s 10ms/step - loss: 0.5940 - accuracy: 0.7734 - val_loss: 1.1394 - val_accuracy: 0.5709\n",
            "Epoch 58/75\n",
            "37/37 [==============================] - 0s 9ms/step - loss: 0.5134 - accuracy: 0.8114 - val_loss: 1.3125 - val_accuracy: 0.5986\n",
            "Epoch 59/75\n",
            "37/37 [==============================] - 0s 10ms/step - loss: 0.5300 - accuracy: 0.8019 - val_loss: 1.4504 - val_accuracy: 0.5156\n",
            "Epoch 60/75\n",
            "37/37 [==============================] - 0s 10ms/step - loss: 0.6118 - accuracy: 0.7760 - val_loss: 1.1234 - val_accuracy: 0.6228\n",
            "Epoch 61/75\n",
            "37/37 [==============================] - 0s 10ms/step - loss: 0.5095 - accuracy: 0.8062 - val_loss: 1.2333 - val_accuracy: 0.5502\n",
            "Epoch 62/75\n",
            "37/37 [==============================] - 0s 10ms/step - loss: 0.4646 - accuracy: 0.8365 - val_loss: 1.2302 - val_accuracy: 0.5848\n",
            "Epoch 63/75\n",
            "37/37 [==============================] - 0s 9ms/step - loss: 0.4756 - accuracy: 0.8304 - val_loss: 1.2267 - val_accuracy: 0.5675\n",
            "Epoch 64/75\n",
            "37/37 [==============================] - 0s 9ms/step - loss: 0.4957 - accuracy: 0.8227 - val_loss: 1.1877 - val_accuracy: 0.5986\n",
            "Epoch 65/75\n",
            "37/37 [==============================] - 0s 10ms/step - loss: 0.3842 - accuracy: 0.8737 - val_loss: 1.3052 - val_accuracy: 0.5502\n",
            "Epoch 66/75\n",
            "37/37 [==============================] - 0s 10ms/step - loss: 0.3194 - accuracy: 0.8910 - val_loss: 1.2071 - val_accuracy: 0.6228\n",
            "Epoch 67/75\n",
            "37/37 [==============================] - 0s 10ms/step - loss: 0.3532 - accuracy: 0.8625 - val_loss: 1.2390 - val_accuracy: 0.5917\n",
            "Epoch 68/75\n",
            "37/37 [==============================] - 0s 11ms/step - loss: 0.3376 - accuracy: 0.8815 - val_loss: 1.2416 - val_accuracy: 0.6159\n",
            "Epoch 69/75\n",
            "37/37 [==============================] - 0s 10ms/step - loss: 0.2716 - accuracy: 0.9083 - val_loss: 1.3965 - val_accuracy: 0.6055\n",
            "Epoch 70/75\n",
            "37/37 [==============================] - 0s 10ms/step - loss: 0.3443 - accuracy: 0.8815 - val_loss: 1.4352 - val_accuracy: 0.5813\n",
            "Epoch 71/75\n",
            "37/37 [==============================] - 0s 10ms/step - loss: 0.2993 - accuracy: 0.8910 - val_loss: 1.2254 - val_accuracy: 0.6228\n",
            "Epoch 72/75\n",
            "37/37 [==============================] - 0s 9ms/step - loss: 0.2210 - accuracy: 0.9239 - val_loss: 1.4145 - val_accuracy: 0.6021\n",
            "Epoch 73/75\n",
            "37/37 [==============================] - 0s 9ms/step - loss: 0.5074 - accuracy: 0.8140 - val_loss: 1.4496 - val_accuracy: 0.5536\n",
            "Epoch 74/75\n",
            "37/37 [==============================] - 0s 10ms/step - loss: 0.3334 - accuracy: 0.8780 - val_loss: 1.2667 - val_accuracy: 0.6055\n",
            "Epoch 75/75\n",
            "37/37 [==============================] - 0s 9ms/step - loss: 0.3577 - accuracy: 0.8746 - val_loss: 1.2741 - val_accuracy: 0.5882\n",
            "Here is the accuracy of the trained model on validation data : 66.44%\n"
          ],
          "name": "stdout"
        }
      ]
    },
    {
      "cell_type": "code",
      "metadata": {
        "id": "0FN_A3iooDVO"
      },
      "source": [
        "model3.save('/content/my_modeld_Aug_1_cnn_66.44.h5')"
      ],
      "execution_count": 29,
      "outputs": []
    },
    {
      "cell_type": "code",
      "metadata": {
        "id": "s5KgraScHAKc"
      },
      "source": [
        ""
      ],
      "execution_count": null,
      "outputs": []
    }
  ]
}