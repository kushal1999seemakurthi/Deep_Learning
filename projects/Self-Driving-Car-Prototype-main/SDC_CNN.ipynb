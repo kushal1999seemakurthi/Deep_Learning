{
  "nbformat": 4,
  "nbformat_minor": 0,
  "metadata": {
    "colab": {
      "name": "SDC_CNN.ipynb",
      "provenance": [],
      "collapsed_sections": []
    },
    "kernelspec": {
      "name": "python3",
      "display_name": "Python 3"
    },
    "language_info": {
      "name": "python"
    },
    "accelerator": "GPU"
  },
  "cells": [
    {
      "cell_type": "code",
      "metadata": {
        "id": "2i7JDxJ_UZUd"
      },
      "source": [
        "import os\n",
        "train_dir = os.path.join('/content/drive/My Drive/SDC/IMG')\n",
        "# test_dir = os.path.join('/content/drive/My Drive/dance/test')"
      ],
      "execution_count": null,
      "outputs": []
    },
    {
      "cell_type": "code",
      "metadata": {
        "colab": {
          "base_uri": "https://localhost:8080/"
        },
        "id": "aNU9iWOIUvpz",
        "outputId": "17800d4e-0bf3-4c28-ec01-2d7485edeba5"
      },
      "source": [
        "train_files = os.listdir(train_dir)\n",
        "print('total training images:', len(os.listdir(train_dir)))\n",
        "print(train_files[:8])"
      ],
      "execution_count": null,
      "outputs": [
        {
          "output_type": "stream",
          "text": [
            "total training images: 5230\n",
            "['right_2019_07_22_20_41_15_502.jpg', 'right_2019_07_22_20_41_20_310.jpg', 'right_2019_07_22_20_41_14_637.jpg', 'right_2019_07_22_20_41_17_963.jpg', 'right_2019_07_22_20_41_18_313.jpg', 'right_2019_07_22_20_41_18_685.jpg', 'right_2019_07_22_20_41_15_806.jpg', 'right_2019_07_22_20_41_18_453.jpg']\n"
          ],
          "name": "stdout"
        }
      ]
    },
    {
      "cell_type": "code",
      "metadata": {
        "id": "kp60zKzWQt4o"
      },
      "source": [
        "import os\n",
        "import re\n",
        "import cv2\n",
        "import numpy as np\n",
        "from tqdm import tqdm_notebook\n",
        "import matplotlib.pyplot as plt\n",
        "from google.colab.patches import cv2_imshow"
      ],
      "execution_count": null,
      "outputs": []
    },
    {
      "cell_type": "markdown",
      "metadata": {
        "id": "tdaJTUJNfQKH"
      },
      "source": [
        "Lets retrieve the dataset from drive"
      ]
    },
    {
      "cell_type": "code",
      "metadata": {
        "id": "XaUbD59jRgqY",
        "colab": {
          "base_uri": "https://localhost:8080/"
        },
        "outputId": "d1813455-1afe-4275-fe44-5f031aaff4fe"
      },
      "source": [
        "# get file names of frames\n",
        "col_frames = os.listdir('/content/drive/My Drive/SDC/IMG')\n",
        "# col_frames.sort(key=lambda f: int(re.sub('\\D', '', f)))\n",
        "col_frames.sort()\n",
        "# print(col_frames)\n",
        "# load frames\n",
        "col_images=[]\n",
        "Images=[]\n",
        "for i in col_frames[:1500]:\n",
        "    img = cv2.imread('/content/drive/My Drive/SDC/IMG/'+i)\n",
        "    Images.append(img)\n",
        "    col_images.append(img[65:140,0:320])# 65:140,0:320 is height and width pixel values where road is only visible not sky, hills, etc.\n",
        "col_images=np.array(col_images)\n",
        "Images=np.array(Images)\n",
        "print(Images.shape)\n",
        "print(col_images.shape)"
      ],
      "execution_count": null,
      "outputs": [
        {
          "output_type": "stream",
          "text": [
            "(1500, 160, 320, 3)\n",
            "(1500, 75, 320, 3)\n"
          ],
          "name": "stdout"
        }
      ]
    },
    {
      "cell_type": "markdown",
      "metadata": {
        "id": "EPLhXdlLgiKW"
      },
      "source": [
        "Lets retrieve the labels for images"
      ]
    },
    {
      "cell_type": "code",
      "metadata": {
        "colab": {
          "base_uri": "https://localhost:8080/"
        },
        "id": "68jfqmG4ExYJ",
        "outputId": "331182c9-fcaf-4f2e-a665-b33819705285"
      },
      "source": [
        "import numpy as np\n",
        "\n",
        "# write your code here\n",
        "import csv\n",
        "with open('/content/drive/My Drive/SDC/driving_log.csv') as file:\n",
        "  csvreader=csv.reader(file)\n",
        "  x=[]\n",
        "  for row in csvreader:\n",
        "    x.append(float(row[3]))\n",
        "\n",
        "Y_data=np.array(x[:1500])\n",
        "print(Y_data.shape)\n",
        "print(Y_data)"
      ],
      "execution_count": null,
      "outputs": [
        {
          "output_type": "stream",
          "text": [
            "(1500,)\n",
            "[0. 0. 0. ... 0. 0. 0.]\n"
          ],
          "name": "stdout"
        }
      ]
    },
    {
      "cell_type": "markdown",
      "metadata": {
        "id": "KFHvn3T7grkq"
      },
      "source": [
        "Because most of the time the steering angle is 0 the y labels are mostly zero thus we need to remove this bias from the data. So we will take only few random iamges with y label = 0"
      ]
    },
    {
      "cell_type": "code",
      "metadata": {
        "id": "a7N26Bwj9joW"
      },
      "source": [
        "X=col_images[Y_data!=0]\n",
        "Y=Y_data[Y_data!=0]"
      ],
      "execution_count": null,
      "outputs": []
    },
    {
      "cell_type": "code",
      "metadata": {
        "id": "_uqO4D1c_Knq"
      },
      "source": [
        "A=col_images[Y_data==0]\n",
        "B=Y_data[Y_data==0]"
      ],
      "execution_count": null,
      "outputs": []
    },
    {
      "cell_type": "code",
      "metadata": {
        "colab": {
          "base_uri": "https://localhost:8080/"
        },
        "id": "IyvG_wU79nJA",
        "outputId": "2ec7e5a5-75f8-45c4-83be-84004a393620"
      },
      "source": [
        "number_of_rows = B.shape[0]\n",
        "random_indices = np.random.choice(number_of_rows, size=150, replace=False)\n",
        "X=np.concatenate((X,A[random_indices, :]),axis=0)\n",
        "Y=np.concatenate((Y,B[random_indices]),axis=0)\n",
        "print(X.shape)\n",
        "print(Y.shape)"
      ],
      "execution_count": null,
      "outputs": [
        {
          "output_type": "stream",
          "text": [
            "(455, 75, 320, 3)\n",
            "(455,)\n"
          ],
          "name": "stdout"
        }
      ]
    },
    {
      "cell_type": "markdown",
      "metadata": {
        "id": "ITJqY1VPhHLj"
      },
      "source": [
        "Steering angle y is between -1 to 1 "
      ]
    },
    {
      "cell_type": "code",
      "metadata": {
        "colab": {
          "base_uri": "https://localhost:8080/"
        },
        "id": "sbL4cG0-PcXx",
        "outputId": "0e2533d7-c663-4c88-b6a1-253705f822ed"
      },
      "source": [
        "\n",
        "# mean=Y.mean(axis=0)\n",
        "# st=Y.std(axis=0)\n",
        "# print(mean)\n",
        "# print(st)\n",
        "# Y=(Y-mean)/st\n",
        "print(min(Y),max(Y))\n",
        "print(X.shape)\n",
        "print(Y.shape)"
      ],
      "execution_count": null,
      "outputs": [
        {
          "output_type": "stream",
          "text": [
            "-1.0 1.0\n",
            "(455, 75, 320, 3)\n",
            "(455,)\n"
          ],
          "name": "stdout"
        }
      ]
    },
    {
      "cell_type": "code",
      "metadata": {
        "colab": {
          "base_uri": "https://localhost:8080/",
          "height": 92
        },
        "id": "gLYWqEIYRtOQ",
        "outputId": "4523f009-bf6c-4b96-e00f-f8cf1d2aa189"
      },
      "source": [
        "# specify frame index\n",
        "idx = 1\n",
        "cv2_imshow(X[idx])"
      ],
      "execution_count": null,
      "outputs": [
        {
          "output_type": "display_data",
          "data": {
            "image/png": "[encoded data removed]",
            "text/plain": [
              "<PIL.Image.Image image mode=RGB size=320x75 at 0x7F9FB4344E50>"
            ]
          },
          "metadata": {
            "tags": []
          }
        }
      ]
    },
    {
      "cell_type": "markdown",
      "metadata": {
        "id": "pyZCmDO9hyRT"
      },
      "source": [
        "Lets prepare the Deep Learning model"
      ]
    },
    {
      "cell_type": "code",
      "metadata": {
        "id": "XSIcUMi13FvH"
      },
      "source": [
        "from keras.models import Sequential\n",
        "from keras.layers import Dense, Conv2D, Flatten,MaxPooling2D\n",
        "#create model\n",
        "model = Sequential()\n",
        "#add model layers\n",
        "model.add(Conv2D(128, kernel_size=3, activation=\"relu\", input_shape=(75,320,3)))\n",
        "model.add(MaxPooling2D(pool_size=(2, 2)))\n",
        "model.add(Conv2D(64, kernel_size=3, activation=\"relu\"))\n",
        "model.add(MaxPooling2D(pool_size=(2, 2)))\n",
        "model.add(Conv2D(32, kernel_size=3, activation=\"relu\"))\n",
        "model.add(MaxPooling2D(pool_size=(2, 2)))\n",
        "model.add(Conv2D(32, kernel_size=3, activation=\"relu\"))\n",
        "model.add(Flatten())\n",
        "model.add(Dense(50, activation=\"tanh\"))\n",
        "model.add(Dense(10, activation=\"tanh\"))\n",
        "model.add(Dense(1, activation=\"tanh\"))"
      ],
      "execution_count": null,
      "outputs": []
    },
    {
      "cell_type": "code",
      "metadata": {
        "colab": {
          "base_uri": "https://localhost:8080/"
        },
        "id": "EdG9igwK3Gij",
        "outputId": "b4dc3193-bd2d-43ed-b5a1-618f0740c962"
      },
      "source": [
        "model.summary()"
      ],
      "execution_count": null,
      "outputs": [
        {
          "output_type": "stream",
          "text": [
            "Model: \"sequential_12\"\n",
            "_________________________________________________________________\n",
            "Layer (type)                 Output Shape              Param #   \n",
            "=================================================================\n",
            "conv2d_48 (Conv2D)           (None, 73, 318, 128)      3584      \n",
            "_________________________________________________________________\n",
            "max_pooling2d_36 (MaxPooling (None, 36, 159, 128)      0         \n",
            "_________________________________________________________________\n",
            "conv2d_49 (Conv2D)           (None, 34, 157, 64)       73792     \n",
            "_________________________________________________________________\n",
            "max_pooling2d_37 (MaxPooling (None, 17, 78, 64)        0         \n",
            "_________________________________________________________________\n",
            "conv2d_50 (Conv2D)           (None, 15, 76, 32)        18464     \n",
            "_________________________________________________________________\n",
            "max_pooling2d_38 (MaxPooling (None, 7, 38, 32)         0         \n",
            "_________________________________________________________________\n",
            "conv2d_51 (Conv2D)           (None, 5, 36, 32)         9248      \n",
            "_________________________________________________________________\n",
            "flatten_12 (Flatten)         (None, 5760)              0         \n",
            "_________________________________________________________________\n",
            "dense_26 (Dense)             (None, 50)                288050    \n",
            "_________________________________________________________________\n",
            "dense_27 (Dense)             (None, 10)                510       \n",
            "_________________________________________________________________\n",
            "dense_28 (Dense)             (None, 1)                 11        \n",
            "=================================================================\n",
            "Total params: 393,659\n",
            "Trainable params: 393,659\n",
            "Non-trainable params: 0\n",
            "_________________________________________________________________\n"
          ],
          "name": "stdout"
        }
      ]
    },
    {
      "cell_type": "code",
      "metadata": {
        "id": "WwJg28J_8PZp"
      },
      "source": [
        "model.compile(loss = \"mean_squared_error\", optimizer='adam')"
      ],
      "execution_count": null,
      "outputs": []
    },
    {
      "cell_type": "code",
      "metadata": {
        "colab": {
          "base_uri": "https://localhost:8080/"
        },
        "id": "9wlu8GJQ3Gls",
        "outputId": "cde69902-4287-4c5e-f789-cc0939a4ba4b"
      },
      "source": [
        "model.fit(X, Y, epochs=200,shuffle=True)"
      ],
      "execution_count": null,
      "outputs": [
        {
          "output_type": "stream",
          "text": [
            "Epoch 1/200\n",
            "15/15 [==============================] - 1s 59ms/step - loss: 0.2583\n",
            "Epoch 2/200\n",
            "15/15 [==============================] - 1s 57ms/step - loss: 0.2536\n",
            "Epoch 3/200\n",
            "15/15 [==============================] - 1s 56ms/step - loss: 0.2575\n",
            "Epoch 4/200\n",
            "15/15 [==============================] - 1s 57ms/step - loss: 0.2568\n",
            "Epoch 5/200\n",
            "15/15 [==============================] - 1s 57ms/step - loss: 0.2573\n",
            "Epoch 6/200\n",
            "15/15 [==============================] - 1s 56ms/step - loss: 0.2504\n",
            "Epoch 7/200\n",
            "15/15 [==============================] - 1s 57ms/step - loss: 0.2471\n",
            "Epoch 8/200\n",
            "15/15 [==============================] - 1s 57ms/step - loss: 0.2498\n",
            "Epoch 9/200\n",
            "15/15 [==============================] - 1s 58ms/step - loss: 0.2257\n",
            "Epoch 10/200\n",
            "15/15 [==============================] - 1s 57ms/step - loss: 0.2551\n",
            "Epoch 11/200\n",
            "15/15 [==============================] - 1s 57ms/step - loss: 0.2464\n",
            "Epoch 12/200\n",
            "15/15 [==============================] - 1s 57ms/step - loss: 0.2383\n",
            "Epoch 13/200\n",
            "15/15 [==============================] - 1s 58ms/step - loss: 0.2358\n",
            "Epoch 14/200\n",
            "15/15 [==============================] - 1s 57ms/step - loss: 0.2715\n",
            "Epoch 15/200\n",
            "15/15 [==============================] - 1s 57ms/step - loss: 0.2571\n",
            "Epoch 16/200\n",
            "15/15 [==============================] - 1s 57ms/step - loss: 0.2445\n",
            "Epoch 17/200\n",
            "15/15 [==============================] - 1s 57ms/step - loss: 0.2300\n",
            "Epoch 18/200\n",
            "15/15 [==============================] - 1s 57ms/step - loss: 0.2314\n",
            "Epoch 19/200\n",
            "15/15 [==============================] - 1s 58ms/step - loss: 0.2210\n",
            "Epoch 20/200\n",
            "15/15 [==============================] - 1s 58ms/step - loss: 0.2299\n",
            "Epoch 21/200\n",
            "15/15 [==============================] - 1s 57ms/step - loss: 0.2103\n",
            "Epoch 22/200\n",
            "15/15 [==============================] - 1s 58ms/step - loss: 0.2461\n",
            "Epoch 23/200\n",
            "15/15 [==============================] - 1s 57ms/step - loss: 0.2272\n",
            "Epoch 24/200\n",
            "15/15 [==============================] - 1s 57ms/step - loss: 0.2140\n",
            "Epoch 25/200\n",
            "15/15 [==============================] - 1s 57ms/step - loss: 0.2082\n",
            "Epoch 26/200\n",
            "15/15 [==============================] - 1s 57ms/step - loss: 0.2093\n",
            "Epoch 27/200\n",
            "15/15 [==============================] - 1s 57ms/step - loss: 0.2141\n",
            "Epoch 28/200\n",
            "15/15 [==============================] - 1s 57ms/step - loss: 0.2189\n",
            "Epoch 29/200\n",
            "15/15 [==============================] - 1s 58ms/step - loss: 0.2042\n",
            "Epoch 30/200\n",
            "15/15 [==============================] - 1s 57ms/step - loss: 0.2039\n",
            "Epoch 31/200\n",
            "15/15 [==============================] - 1s 57ms/step - loss: 0.2052\n",
            "Epoch 32/200\n",
            "15/15 [==============================] - 1s 57ms/step - loss: 0.1989\n",
            "Epoch 33/200\n",
            "15/15 [==============================] - 1s 57ms/step - loss: 0.2227\n",
            "Epoch 34/200\n",
            "15/15 [==============================] - 1s 57ms/step - loss: 0.1993\n",
            "Epoch 35/200\n",
            "15/15 [==============================] - 1s 57ms/step - loss: 0.1992\n",
            "Epoch 36/200\n",
            "15/15 [==============================] - 1s 57ms/step - loss: 0.2097\n",
            "Epoch 37/200\n",
            "15/15 [==============================] - 1s 57ms/step - loss: 0.2059\n",
            "Epoch 38/200\n",
            "15/15 [==============================] - 1s 57ms/step - loss: 0.1954\n",
            "Epoch 39/200\n",
            "15/15 [==============================] - 1s 57ms/step - loss: 0.1948\n",
            "Epoch 40/200\n",
            "15/15 [==============================] - 1s 57ms/step - loss: 0.1881\n",
            "Epoch 41/200\n",
            "15/15 [==============================] - 1s 57ms/step - loss: 0.1798\n",
            "Epoch 42/200\n",
            "15/15 [==============================] - 1s 58ms/step - loss: 0.1895\n",
            "Epoch 43/200\n",
            "15/15 [==============================] - 1s 58ms/step - loss: 0.2175\n",
            "Epoch 44/200\n",
            "15/15 [==============================] - 1s 57ms/step - loss: 0.2036\n",
            "Epoch 45/200\n",
            "15/15 [==============================] - 1s 58ms/step - loss: 0.2139\n",
            "Epoch 46/200\n",
            "15/15 [==============================] - 1s 58ms/step - loss: 0.1998\n",
            "Epoch 47/200\n",
            "15/15 [==============================] - 1s 57ms/step - loss: 0.1930\n",
            "Epoch 48/200\n",
            "15/15 [==============================] - 1s 58ms/step - loss: 0.1965\n",
            "Epoch 49/200\n",
            "15/15 [==============================] - 1s 57ms/step - loss: 0.1968\n",
            "Epoch 50/200\n",
            "15/15 [==============================] - 1s 57ms/step - loss: 0.2129\n",
            "Epoch 51/200\n",
            "15/15 [==============================] - 1s 57ms/step - loss: 0.2051\n",
            "Epoch 52/200\n",
            "15/15 [==============================] - 1s 57ms/step - loss: 0.2030\n",
            "Epoch 53/200\n",
            "15/15 [==============================] - 1s 58ms/step - loss: 0.2041\n",
            "Epoch 54/200\n",
            "15/15 [==============================] - 1s 58ms/step - loss: 0.2159\n",
            "Epoch 55/200\n",
            "15/15 [==============================] - 1s 57ms/step - loss: 0.2102\n",
            "Epoch 56/200\n",
            "15/15 [==============================] - 1s 57ms/step - loss: 0.2028\n",
            "Epoch 57/200\n",
            "15/15 [==============================] - 1s 57ms/step - loss: 0.2018\n",
            "Epoch 58/200\n",
            "15/15 [==============================] - 1s 57ms/step - loss: 0.2071\n",
            "Epoch 59/200\n",
            "15/15 [==============================] - 1s 57ms/step - loss: 0.1979\n",
            "Epoch 60/200\n",
            "15/15 [==============================] - 1s 57ms/step - loss: 0.1870\n",
            "Epoch 61/200\n",
            "15/15 [==============================] - 1s 57ms/step - loss: 0.1893\n",
            "Epoch 62/200\n",
            "15/15 [==============================] - 1s 57ms/step - loss: 0.1828\n",
            "Epoch 63/200\n",
            "15/15 [==============================] - 1s 58ms/step - loss: 0.1867\n",
            "Epoch 64/200\n",
            "15/15 [==============================] - 1s 58ms/step - loss: 0.1905\n",
            "Epoch 65/200\n",
            "15/15 [==============================] - 1s 57ms/step - loss: 0.1900\n",
            "Epoch 66/200\n",
            "15/15 [==============================] - 1s 58ms/step - loss: 0.1865\n",
            "Epoch 67/200\n",
            "15/15 [==============================] - 1s 57ms/step - loss: 0.1870\n",
            "Epoch 68/200\n",
            "15/15 [==============================] - 1s 57ms/step - loss: 0.1844\n",
            "Epoch 69/200\n",
            "15/15 [==============================] - 1s 57ms/step - loss: 0.1759\n",
            "Epoch 70/200\n",
            "15/15 [==============================] - 1s 57ms/step - loss: 0.1765\n",
            "Epoch 71/200\n",
            "15/15 [==============================] - 1s 57ms/step - loss: 0.1639\n",
            "Epoch 72/200\n",
            "15/15 [==============================] - 1s 57ms/step - loss: 0.1665\n",
            "Epoch 73/200\n",
            "15/15 [==============================] - 1s 57ms/step - loss: 0.1539\n",
            "Epoch 74/200\n",
            "15/15 [==============================] - 1s 57ms/step - loss: 0.1509\n",
            "Epoch 75/200\n",
            "15/15 [==============================] - 1s 57ms/step - loss: 0.1490\n",
            "Epoch 76/200\n",
            "15/15 [==============================] - 1s 58ms/step - loss: 0.1466\n",
            "Epoch 77/200\n",
            "15/15 [==============================] - 1s 58ms/step - loss: 0.1384\n",
            "Epoch 78/200\n",
            "15/15 [==============================] - 1s 57ms/step - loss: 0.1478\n",
            "Epoch 79/200\n",
            "15/15 [==============================] - 1s 58ms/step - loss: 0.1368\n",
            "Epoch 80/200\n",
            "15/15 [==============================] - 1s 58ms/step - loss: 0.1449\n",
            "Epoch 81/200\n",
            "15/15 [==============================] - 1s 58ms/step - loss: 0.1360\n",
            "Epoch 82/200\n",
            "15/15 [==============================] - 1s 57ms/step - loss: 0.1415\n",
            "Epoch 83/200\n",
            "15/15 [==============================] - 1s 58ms/step - loss: 0.1344\n",
            "Epoch 84/200\n",
            "15/15 [==============================] - 1s 57ms/step - loss: 0.1340\n",
            "Epoch 85/200\n",
            "15/15 [==============================] - 1s 57ms/step - loss: 0.1298\n",
            "Epoch 86/200\n",
            "15/15 [==============================] - 1s 58ms/step - loss: 0.1294\n",
            "Epoch 87/200\n",
            "15/15 [==============================] - 1s 58ms/step - loss: 0.1301\n",
            "Epoch 88/200\n",
            "15/15 [==============================] - 1s 58ms/step - loss: 0.1358\n",
            "Epoch 89/200\n",
            "15/15 [==============================] - 1s 58ms/step - loss: 0.1262\n",
            "Epoch 90/200\n",
            "15/15 [==============================] - 1s 57ms/step - loss: 0.1273\n",
            "Epoch 91/200\n",
            "15/15 [==============================] - 1s 58ms/step - loss: 0.1507\n",
            "Epoch 92/200\n",
            "15/15 [==============================] - 1s 57ms/step - loss: 0.1455\n",
            "Epoch 93/200\n",
            "15/15 [==============================] - 1s 57ms/step - loss: 0.1389\n",
            "Epoch 94/200\n",
            "15/15 [==============================] - 1s 57ms/step - loss: 0.1372\n",
            "Epoch 95/200\n",
            "15/15 [==============================] - 1s 57ms/step - loss: 0.1381\n",
            "Epoch 96/200\n",
            "15/15 [==============================] - 1s 57ms/step - loss: 0.1334\n",
            "Epoch 97/200\n",
            "15/15 [==============================] - 1s 58ms/step - loss: 0.1437\n",
            "Epoch 98/200\n",
            "15/15 [==============================] - 1s 58ms/step - loss: 0.1440\n",
            "Epoch 99/200\n",
            "15/15 [==============================] - 1s 57ms/step - loss: 0.1304\n",
            "Epoch 100/200\n",
            "15/15 [==============================] - 1s 57ms/step - loss: 0.1312\n",
            "Epoch 101/200\n",
            "15/15 [==============================] - 1s 57ms/step - loss: 0.1373\n",
            "Epoch 102/200\n",
            "15/15 [==============================] - 1s 57ms/step - loss: 0.1347\n",
            "Epoch 103/200\n",
            "15/15 [==============================] - 1s 57ms/step - loss: 0.1340\n",
            "Epoch 104/200\n",
            "15/15 [==============================] - 1s 58ms/step - loss: 0.1416\n",
            "Epoch 105/200\n",
            "15/15 [==============================] - 1s 58ms/step - loss: 0.1333\n",
            "Epoch 106/200\n",
            "15/15 [==============================] - 1s 58ms/step - loss: 0.1316\n",
            "Epoch 107/200\n",
            "15/15 [==============================] - 1s 57ms/step - loss: 0.1284\n",
            "Epoch 108/200\n",
            "15/15 [==============================] - 1s 58ms/step - loss: 0.1271\n",
            "Epoch 109/200\n",
            "15/15 [==============================] - 1s 57ms/step - loss: 0.1216\n",
            "Epoch 110/200\n",
            "15/15 [==============================] - 1s 57ms/step - loss: 0.1197\n",
            "Epoch 111/200\n",
            "15/15 [==============================] - 1s 57ms/step - loss: 0.1218\n",
            "Epoch 112/200\n",
            "15/15 [==============================] - 1s 58ms/step - loss: 0.1218\n",
            "Epoch 113/200\n",
            "15/15 [==============================] - 1s 58ms/step - loss: 0.1203\n",
            "Epoch 114/200\n",
            "15/15 [==============================] - 1s 57ms/step - loss: 0.1178\n",
            "Epoch 115/200\n",
            "15/15 [==============================] - 1s 57ms/step - loss: 0.1199\n",
            "Epoch 116/200\n",
            "15/15 [==============================] - 1s 58ms/step - loss: 0.1140\n",
            "Epoch 117/200\n",
            "15/15 [==============================] - 1s 58ms/step - loss: 0.1158\n",
            "Epoch 118/200\n",
            "15/15 [==============================] - 1s 58ms/step - loss: 0.1191\n",
            "Epoch 119/200\n",
            "15/15 [==============================] - 1s 57ms/step - loss: 0.1237\n",
            "Epoch 120/200\n",
            "15/15 [==============================] - 1s 57ms/step - loss: 0.1222\n",
            "Epoch 121/200\n",
            "15/15 [==============================] - 1s 58ms/step - loss: 0.1189\n",
            "Epoch 122/200\n",
            "15/15 [==============================] - 1s 57ms/step - loss: 0.1203\n",
            "Epoch 123/200\n",
            "15/15 [==============================] - 1s 58ms/step - loss: 0.1243\n",
            "Epoch 124/200\n",
            "15/15 [==============================] - 1s 58ms/step - loss: 0.1239\n",
            "Epoch 125/200\n",
            "15/15 [==============================] - 1s 57ms/step - loss: 0.1181\n",
            "Epoch 126/200\n",
            "15/15 [==============================] - 1s 58ms/step - loss: 0.1184\n",
            "Epoch 127/200\n",
            "15/15 [==============================] - 1s 58ms/step - loss: 0.1204\n",
            "Epoch 128/200\n",
            "15/15 [==============================] - 1s 58ms/step - loss: 0.1177\n",
            "Epoch 129/200\n",
            "15/15 [==============================] - 1s 58ms/step - loss: 0.1200\n",
            "Epoch 130/200\n",
            "15/15 [==============================] - 1s 58ms/step - loss: 0.1156\n",
            "Epoch 131/200\n",
            "15/15 [==============================] - 1s 57ms/step - loss: 0.1122\n",
            "Epoch 132/200\n",
            "15/15 [==============================] - 1s 58ms/step - loss: 0.1126\n",
            "Epoch 133/200\n",
            "15/15 [==============================] - 1s 58ms/step - loss: 0.1157\n",
            "Epoch 134/200\n",
            "15/15 [==============================] - 1s 59ms/step - loss: 0.1139\n",
            "Epoch 135/200\n",
            "15/15 [==============================] - 1s 57ms/step - loss: 0.1075\n",
            "Epoch 136/200\n",
            "15/15 [==============================] - 1s 58ms/step - loss: 0.1121\n",
            "Epoch 137/200\n",
            "15/15 [==============================] - 1s 58ms/step - loss: 0.1143\n",
            "Epoch 138/200\n",
            "15/15 [==============================] - 1s 58ms/step - loss: 0.1148\n",
            "Epoch 139/200\n",
            "15/15 [==============================] - 1s 58ms/step - loss: 0.1097\n",
            "Epoch 140/200\n",
            "15/15 [==============================] - 1s 57ms/step - loss: 0.1054\n",
            "Epoch 141/200\n",
            "15/15 [==============================] - 1s 59ms/step - loss: 0.1118\n",
            "Epoch 142/200\n",
            "15/15 [==============================] - 1s 58ms/step - loss: 0.1106\n",
            "Epoch 143/200\n",
            "15/15 [==============================] - 1s 58ms/step - loss: 0.1252\n",
            "Epoch 144/200\n",
            "15/15 [==============================] - 1s 58ms/step - loss: 0.1076\n",
            "Epoch 145/200\n",
            "15/15 [==============================] - 1s 58ms/step - loss: 0.1163\n",
            "Epoch 146/200\n",
            "15/15 [==============================] - 1s 58ms/step - loss: 0.1123\n",
            "Epoch 147/200\n",
            "15/15 [==============================] - 1s 57ms/step - loss: 0.1107\n",
            "Epoch 148/200\n",
            "15/15 [==============================] - 1s 58ms/step - loss: 0.1150\n",
            "Epoch 149/200\n",
            "15/15 [==============================] - 1s 59ms/step - loss: 0.1083\n",
            "Epoch 150/200\n",
            "15/15 [==============================] - 1s 57ms/step - loss: 0.1062\n",
            "Epoch 151/200\n",
            "15/15 [==============================] - 1s 58ms/step - loss: 0.1021\n",
            "Epoch 152/200\n",
            "15/15 [==============================] - 1s 59ms/step - loss: 0.1041\n",
            "Epoch 153/200\n",
            "15/15 [==============================] - 1s 58ms/step - loss: 0.1019\n",
            "Epoch 154/200\n",
            "15/15 [==============================] - 1s 58ms/step - loss: 0.1018\n",
            "Epoch 155/200\n",
            "15/15 [==============================] - 1s 58ms/step - loss: 0.0986\n",
            "Epoch 156/200\n",
            "15/15 [==============================] - 1s 59ms/step - loss: 0.1015\n",
            "Epoch 157/200\n",
            "15/15 [==============================] - 1s 58ms/step - loss: 0.1008\n",
            "Epoch 158/200\n",
            "15/15 [==============================] - 1s 58ms/step - loss: 0.0993\n",
            "Epoch 159/200\n",
            "15/15 [==============================] - 1s 58ms/step - loss: 0.1041\n",
            "Epoch 160/200\n",
            "15/15 [==============================] - 1s 58ms/step - loss: 0.0990\n",
            "Epoch 161/200\n",
            "15/15 [==============================] - 1s 58ms/step - loss: 0.0909\n",
            "Epoch 162/200\n",
            "15/15 [==============================] - 1s 58ms/step - loss: 0.0885\n",
            "Epoch 163/200\n",
            "15/15 [==============================] - 1s 58ms/step - loss: 0.0908\n",
            "Epoch 164/200\n",
            "15/15 [==============================] - 1s 58ms/step - loss: 0.0938\n",
            "Epoch 165/200\n",
            "15/15 [==============================] - 1s 58ms/step - loss: 0.0921\n",
            "Epoch 166/200\n",
            "15/15 [==============================] - 1s 58ms/step - loss: 0.0974\n",
            "Epoch 167/200\n",
            "15/15 [==============================] - 1s 58ms/step - loss: 0.0952\n",
            "Epoch 168/200\n",
            "15/15 [==============================] - 1s 58ms/step - loss: 0.0889\n",
            "Epoch 169/200\n",
            "15/15 [==============================] - 1s 58ms/step - loss: 0.0846\n",
            "Epoch 170/200\n",
            "15/15 [==============================] - 1s 58ms/step - loss: 0.0910\n",
            "Epoch 171/200\n",
            "15/15 [==============================] - 1s 58ms/step - loss: 0.0888\n",
            "Epoch 172/200\n",
            "15/15 [==============================] - 1s 59ms/step - loss: 0.0939\n",
            "Epoch 173/200\n",
            "15/15 [==============================] - 1s 60ms/step - loss: 0.0916\n",
            "Epoch 174/200\n",
            "15/15 [==============================] - 1s 59ms/step - loss: 0.0918\n",
            "Epoch 175/200\n",
            "15/15 [==============================] - 1s 59ms/step - loss: 0.0945\n",
            "Epoch 176/200\n",
            "15/15 [==============================] - 1s 58ms/step - loss: 0.0885\n",
            "Epoch 177/200\n",
            "15/15 [==============================] - 1s 59ms/step - loss: 0.0843\n",
            "Epoch 178/200\n",
            "15/15 [==============================] - 1s 58ms/step - loss: 0.0938\n",
            "Epoch 179/200\n",
            "15/15 [==============================] - 1s 58ms/step - loss: 0.1006\n",
            "Epoch 180/200\n",
            "15/15 [==============================] - 1s 58ms/step - loss: 0.0833\n",
            "Epoch 181/200\n",
            "15/15 [==============================] - 1s 58ms/step - loss: 0.0850\n",
            "Epoch 182/200\n",
            "15/15 [==============================] - 1s 59ms/step - loss: 0.0843\n",
            "Epoch 183/200\n",
            "15/15 [==============================] - 1s 58ms/step - loss: 0.0815\n",
            "Epoch 184/200\n",
            "15/15 [==============================] - 1s 58ms/step - loss: 0.0840\n",
            "Epoch 185/200\n",
            "15/15 [==============================] - 1s 58ms/step - loss: 0.0895\n",
            "Epoch 186/200\n",
            "15/15 [==============================] - 1s 58ms/step - loss: 0.0850\n",
            "Epoch 187/200\n",
            "15/15 [==============================] - 1s 59ms/step - loss: 0.0854\n",
            "Epoch 188/200\n",
            "15/15 [==============================] - 1s 59ms/step - loss: 0.0817\n",
            "Epoch 189/200\n",
            "15/15 [==============================] - 1s 58ms/step - loss: 0.0787\n",
            "Epoch 190/200\n",
            "15/15 [==============================] - 1s 59ms/step - loss: 0.0870\n",
            "Epoch 191/200\n",
            "15/15 [==============================] - 1s 59ms/step - loss: 0.0978\n",
            "Epoch 192/200\n",
            "15/15 [==============================] - 1s 59ms/step - loss: 0.0826\n",
            "Epoch 193/200\n",
            "15/15 [==============================] - 1s 58ms/step - loss: 0.0798\n",
            "Epoch 194/200\n",
            "15/15 [==============================] - 1s 59ms/step - loss: 0.0793\n",
            "Epoch 195/200\n",
            "15/15 [==============================] - 1s 58ms/step - loss: 0.0763\n",
            "Epoch 196/200\n",
            "15/15 [==============================] - 1s 58ms/step - loss: 0.0800\n",
            "Epoch 197/200\n",
            "15/15 [==============================] - 1s 58ms/step - loss: 0.0764\n",
            "Epoch 198/200\n",
            "15/15 [==============================] - 1s 58ms/step - loss: 0.0781\n",
            "Epoch 199/200\n",
            "15/15 [==============================] - 1s 58ms/step - loss: 0.0767\n",
            "Epoch 200/200\n",
            "15/15 [==============================] - 1s 58ms/step - loss: 0.0746\n"
          ],
          "name": "stdout"
        },
        {
          "output_type": "execute_result",
          "data": {
            "text/plain": [
              "<tensorflow.python.keras.callbacks.History at 0x7fa0e9005110>"
            ]
          },
          "metadata": {
            "tags": []
          },
          "execution_count": 242
        }
      ]
    },
    {
      "cell_type": "code",
      "metadata": {
        "colab": {
          "base_uri": "https://localhost:8080/",
          "height": 92
        },
        "id": "V_psr0OEMNhD",
        "outputId": "8a4836c0-2628-4310-c2e9-c69835b4190c"
      },
      "source": [
        "test=X[101] #101 is the index of the image we are testing, you can put any value upto 455\n",
        "cv2_imshow(test)"
      ],
      "execution_count": null,
      "outputs": [
        {
          "output_type": "display_data",
          "data": {
            "image/png": "[encoded data removed]",
            "text/plain": [
              "<PIL.Image.Image image mode=RGB size=320x75 at 0x7FA0E8FE4290>"
            ]
          },
          "metadata": {
            "tags": []
          }
        }
      ]
    },
    {
      "cell_type": "code",
      "metadata": {
        "colab": {
          "base_uri": "https://localhost:8080/"
        },
        "id": "xLNulf57McHk",
        "outputId": "9f5fdcb5-f652-4b0e-a882-a99b3ae0aa10"
      },
      "source": [
        "test = np.expand_dims(test, axis=0) # to make it look like a batch we added a new dimension so that we can easily use model.predict()\n",
        "test.shape"
      ],
      "execution_count": null,
      "outputs": [
        {
          "output_type": "execute_result",
          "data": {
            "text/plain": [
              "(1, 75, 320, 3)"
            ]
          },
          "metadata": {
            "tags": []
          },
          "execution_count": 244
        }
      ]
    },
    {
      "cell_type": "code",
      "metadata": {
        "colab": {
          "base_uri": "https://localhost:8080/"
        },
        "id": "Aa88bfxZM_4X",
        "outputId": "d5548477-9680-4869-8bee-4c15fe030eb3"
      },
      "source": [
        "model.predict(test)[0][0]   # predicts the steering angle"
      ],
      "execution_count": null,
      "outputs": [
        {
          "output_type": "execute_result",
          "data": {
            "text/plain": [
              "-0.23799974"
            ]
          },
          "metadata": {
            "tags": []
          },
          "execution_count": 245
        }
      ]
    },
    {
      "cell_type": "code",
      "metadata": {
        "colab": {
          "base_uri": "https://localhost:8080/"
        },
        "id": "XslF-fA3Nu65",
        "outputId": "4d08916d-4120-419a-c857-30202902b06c"
      },
      "source": [
        "test=X[100:105]  # lets see the same over a batch of 5 images\n",
        "print(model.predict(test))\n",
        "print(Y[100:105])  # actual steering angles when user was driving the car while collecting the dataset"
      ],
      "execution_count": null,
      "outputs": [
        {
          "output_type": "stream",
          "text": [
            "[[-0.545344  ]\n",
            " [-0.23799975]\n",
            " [ 0.4086814 ]\n",
            " [ 0.1610203 ]\n",
            " [-0.5353438 ]]\n",
            "[-0.7843707  -0.04646092  0.804567    0.09961647 -0.5205054 ]\n"
          ],
          "name": "stdout"
        }
      ]
    },
    {
      "cell_type": "markdown",
      "metadata": {
        "id": "hwE7PsjLi_cl"
      },
      "source": [
        "Let import our test data (images + steering angle) and see how well it predicts the steering angle"
      ]
    },
    {
      "cell_type": "code",
      "metadata": {
        "id": "6zSUwZ_MIJec"
      },
      "source": [
        "# get file names of frames\n",
        "col_frames = os.listdir('/content/drive/My Drive/SDC/testing/IMG')\n",
        "# col_frames.sort(key=lambda f: int(re.sub('\\D', '', f)))\n",
        "col_frames.sort()\n",
        "# print(col_frames)\n",
        "# load frames\n",
        "test=[]\n",
        "for i in col_frames[:1500]:\n",
        "    img = cv2.imread('/content/drive/My Drive/SDC/IMG/'+i)\n",
        "    test.append(img)\n",
        "test=np.array(test)\n",
        "print(test.shape)"
      ],
      "execution_count": null,
      "outputs": []
    },
    {
      "cell_type": "code",
      "metadata": {
        "id": "cE5d95sgJJuo"
      },
      "source": [
        "# write your code here\n",
        "import csv\n",
        "with open('/content/drive/My Drive/SDC/testing/driving_log.csv') as file:\n",
        "  csvreader=csv.reader(file)\n",
        "  x=[]\n",
        "  for row in csvreader:\n",
        "    x.append(float(row[3]))\n",
        "\n",
        "Y_data_test=np.array(x[:1500])\n",
        "print(Y_data_test.shape)\n",
        "print(Y_data_test)"
      ],
      "execution_count": null,
      "outputs": []
    },
    {
      "cell_type": "code",
      "metadata": {
        "colab": {
          "base_uri": "https://localhost:8080/"
        },
        "id": "gpz0gC4NN4SS",
        "outputId": "82b736bb-e50a-4962-d715-314c7d4ee31b"
      },
      "source": [
        "predict=list(model.predict(test)[:,0])\n",
        "print(len(predict))"
      ],
      "execution_count": null,
      "outputs": [
        {
          "output_type": "stream",
          "text": [
            "1500\n"
          ],
          "name": "stdout"
        }
      ]
    },
    {
      "cell_type": "markdown",
      "metadata": {
        "id": "Ue5t3p1_jaS4"
      },
      "source": [
        "Now lets start predicting on test data and then visualize the results using a arrow showing the direction, we need to turn and saving it in a video, frame by frame."
      ]
    },
    {
      "cell_type": "code",
      "metadata": {
        "id": "mNHQjlYgSKSv"
      },
      "source": [
        "import math\n",
        "# Define the codec and create VideoWriter object\n",
        "fourcc = cv2.VideoWriter_fourcc(*'mp4v')\n",
        "out = cv2.VideoWriter('/content/drive/My Drive/SDC/output7.mp4',fourcc, 15, (320,160))\n",
        "cnt=0\n",
        "for pred,img1,y in zip(predict,test,Y_data_test):\n",
        "  img=img1.copy()\n",
        "  start_point=(150,150)\n",
        "  end_point=(int(150+pred*40),110)\n",
        "  thickness = 5\n",
        "  img = cv2.arrowedLine(img, start_point, end_point,(0,255,0),thickness, tipLength = 0.5)\n",
        "  # font\n",
        "  font = cv2.FONT_HERSHEY_SIMPLEX\n",
        "  # org\n",
        "  org1 = (200, 60) \n",
        "  org2 = (200, 40) \n",
        "  # fontScale\n",
        "  fontScale = 0.5\n",
        "  # Blue color in BGR\n",
        "  color1 = (0, 255, 0)\n",
        "  color2 = (0, 0, 255)\n",
        "  # Line thickness of 2 px\n",
        "  thickness = 2\n",
        "  # Using cv2.putText() method\n",
        "  cv2.putText(img, str(pred), org1, font, \n",
        "                    fontScale, color1, thickness, cv2.LINE_AA)\n",
        "  # Using cv2.putText() method\n",
        "  cv2.putText(img, str(y), org2, font, \n",
        "                    fontScale, color2, thickness, cv2.LINE_AA)\n",
        "\n",
        "\n",
        "  cv2_imshow(img)\n",
        "  # cv2.imwrite('/content/drive/My Drive/SDC/detected_dl/'+str(cnt)+'.png',img)\n",
        "  \n",
        "  # except TypeError: \n",
        "  #   cv2.imwrite('detected/'+str(cnt)+'.png',img)\n",
        "  out.write(img)\n",
        "  cnt+= 1\n",
        "\n",
        "out.release()\n",
        "cv2.destroyAllWindows()"
      ],
      "execution_count": null,
      "outputs": []
    }
  ]
}